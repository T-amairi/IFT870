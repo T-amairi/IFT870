{
 "cells": [
  {
   "attachments": {},
   "cell_type": "markdown",
   "id": "e09238cd",
   "metadata": {},
   "source": [
    "Victor CHAU & Tahar AMAIRI\n",
    "# IFT 870 - Forage de données\n",
    "## TP2 : Prétraitement et représentation de données\n",
    "\n",
    "### Sommaire\n",
    "\n",
    "* Question 1 & Question 2\n",
    "* Question 3\n",
    "* Question 4\n",
    "* Question 5\n",
    "* Question 6\n",
    "* Question 7\n",
    "* Question 8\n",
    "* Question 9"
   ]
  },
  {
   "attachments": {},
   "cell_type": "markdown",
   "id": "c0a49df6",
   "metadata": {},
   "source": [
    "## Importation des données"
   ]
  },
  {
   "cell_type": "code",
   "execution_count": 459,
   "id": "2f519718",
   "metadata": {},
   "outputs": [
    {
     "name": "stdout",
     "output_type": "stream",
     "text": [
      "Product table:\n"
     ]
    },
    {
     "data": {
      "text/html": [
       "<div>\n",
       "<style scoped>\n",
       "    .dataframe tbody tr th:only-of-type {\n",
       "        vertical-align: middle;\n",
       "    }\n",
       "\n",
       "    .dataframe tbody tr th {\n",
       "        vertical-align: top;\n",
       "    }\n",
       "\n",
       "    .dataframe thead th {\n",
       "        text-align: right;\n",
       "    }\n",
       "</style>\n",
       "<table border=\"1\" class=\"dataframe\">\n",
       "  <thead>\n",
       "    <tr style=\"text-align: right;\">\n",
       "      <th></th>\n",
       "      <th>PRODUCTID</th>\n",
       "      <th>PRODUCTNDC</th>\n",
       "      <th>PRODUCTTYPENAME</th>\n",
       "      <th>PROPRIETARYNAME</th>\n",
       "      <th>PROPRIETARYNAMESUFFIX</th>\n",
       "      <th>NONPROPRIETARYNAME</th>\n",
       "      <th>DOSAGEFORMNAME</th>\n",
       "      <th>ROUTENAME</th>\n",
       "      <th>STARTMARKETINGDATE</th>\n",
       "      <th>ENDMARKETINGDATE</th>\n",
       "      <th>MARKETINGCATEGORYNAME</th>\n",
       "      <th>APPLICATIONNUMBER</th>\n",
       "      <th>LABELERNAME</th>\n",
       "      <th>SUBSTANCENAME</th>\n",
       "      <th>ACTIVE_NUMERATOR_STRENGTH</th>\n",
       "      <th>ACTIVE_INGRED_UNIT</th>\n",
       "      <th>PHARM_CLASSES</th>\n",
       "      <th>DEASCHEDULE</th>\n",
       "      <th>NDC_EXCLUDE_FLAG</th>\n",
       "      <th>LISTING_RECORD_CERTIFIED_THROUGH</th>\n",
       "    </tr>\n",
       "  </thead>\n",
       "  <tbody>\n",
       "    <tr>\n",
       "      <th>0</th>\n",
       "      <td>NaN</td>\n",
       "      <td>0002-0800</td>\n",
       "      <td>HUMAN OTC DRUG</td>\n",
       "      <td>Sterile Diluent</td>\n",
       "      <td>NaN</td>\n",
       "      <td>diluent</td>\n",
       "      <td>INJECTION, SOLUTION</td>\n",
       "      <td>SUBCUTANEOUS</td>\n",
       "      <td>19870710</td>\n",
       "      <td>NaN</td>\n",
       "      <td>NDA</td>\n",
       "      <td>NDA018781</td>\n",
       "      <td>10</td>\n",
       "      <td>WATER</td>\n",
       "      <td>1</td>\n",
       "      <td>mL/mL</td>\n",
       "      <td>NaN</td>\n",
       "      <td>NaN</td>\n",
       "      <td>N</td>\n",
       "      <td>20201231.0</td>\n",
       "    </tr>\n",
       "    <tr>\n",
       "      <th>1</th>\n",
       "      <td>NaN</td>\n",
       "      <td>0002-1200</td>\n",
       "      <td>HUMAN PRESCRIPTION DRUG</td>\n",
       "      <td>Amyvid</td>\n",
       "      <td>NaN</td>\n",
       "      <td>Florbetapir F 18</td>\n",
       "      <td>INJECTION, SOLUTION</td>\n",
       "      <td>INTRAVENOUS</td>\n",
       "      <td>20120601</td>\n",
       "      <td>NaN</td>\n",
       "      <td>NDA</td>\n",
       "      <td>NDA202008</td>\n",
       "      <td>10</td>\n",
       "      <td>FLORBETAPIR F-18</td>\n",
       "      <td>51</td>\n",
       "      <td>mCi/mL</td>\n",
       "      <td>Radioactive Diagnostic Agent [EPC],Positron Em...</td>\n",
       "      <td>NaN</td>\n",
       "      <td>N</td>\n",
       "      <td>20211231.0</td>\n",
       "    </tr>\n",
       "    <tr>\n",
       "      <th>2</th>\n",
       "      <td>NaN</td>\n",
       "      <td>0002-1433</td>\n",
       "      <td>HUMAN PRESCRIPTION DRUG</td>\n",
       "      <td>Trulicity</td>\n",
       "      <td>NaN</td>\n",
       "      <td>Dulaglutide</td>\n",
       "      <td>INJECTION, SOLUTION</td>\n",
       "      <td>SUBCUTANEOUS</td>\n",
       "      <td>20140918</td>\n",
       "      <td>NaN</td>\n",
       "      <td>BLA</td>\n",
       "      <td>BLA125469</td>\n",
       "      <td>10</td>\n",
       "      <td>DULAGLUTIDE</td>\n",
       "      <td>.75</td>\n",
       "      <td>mg/.5mL</td>\n",
       "      <td>GLP-1 Receptor Agonist [EPC],Glucagon-Like Pep...</td>\n",
       "      <td>NaN</td>\n",
       "      <td>N</td>\n",
       "      <td>20201231.0</td>\n",
       "    </tr>\n",
       "    <tr>\n",
       "      <th>3</th>\n",
       "      <td>NaN</td>\n",
       "      <td>0002-1434</td>\n",
       "      <td>HUMAN PRESCRIPTION DRUG</td>\n",
       "      <td>Trulicity</td>\n",
       "      <td>NaN</td>\n",
       "      <td>Dulaglutide</td>\n",
       "      <td>INJECTION, SOLUTION</td>\n",
       "      <td>SUBCUTANEOUS</td>\n",
       "      <td>20140918</td>\n",
       "      <td>NaN</td>\n",
       "      <td>BLA</td>\n",
       "      <td>BLA125469</td>\n",
       "      <td>10</td>\n",
       "      <td>DULAGLUTIDE</td>\n",
       "      <td>1.5</td>\n",
       "      <td>mg/.5mL</td>\n",
       "      <td>GLP-1 Receptor Agonist [EPC],Glucagon-Like Pep...</td>\n",
       "      <td>NaN</td>\n",
       "      <td>N</td>\n",
       "      <td>20201231.0</td>\n",
       "    </tr>\n",
       "    <tr>\n",
       "      <th>4</th>\n",
       "      <td>NaN</td>\n",
       "      <td>0002-1436</td>\n",
       "      <td>HUMAN PRESCRIPTION DRUG</td>\n",
       "      <td>EMGALITY</td>\n",
       "      <td>NaN</td>\n",
       "      <td>galcanezumab</td>\n",
       "      <td>INJECTION, SOLUTION</td>\n",
       "      <td>SUBCUTANEOUS</td>\n",
       "      <td>20180927</td>\n",
       "      <td>NaN</td>\n",
       "      <td>BLA</td>\n",
       "      <td>BLA761063</td>\n",
       "      <td>10</td>\n",
       "      <td>GALCANEZUMAB</td>\n",
       "      <td>120</td>\n",
       "      <td>mg/mL</td>\n",
       "      <td>NaN</td>\n",
       "      <td>NaN</td>\n",
       "      <td>N</td>\n",
       "      <td>20201231.0</td>\n",
       "    </tr>\n",
       "  </tbody>\n",
       "</table>\n",
       "</div>"
      ],
      "text/plain": [
       "  PRODUCTID PRODUCTNDC          PRODUCTTYPENAME  PROPRIETARYNAME  \\\n",
       "0       NaN  0002-0800           HUMAN OTC DRUG  Sterile Diluent   \n",
       "1       NaN  0002-1200  HUMAN PRESCRIPTION DRUG           Amyvid   \n",
       "2       NaN  0002-1433  HUMAN PRESCRIPTION DRUG        Trulicity   \n",
       "3       NaN  0002-1434  HUMAN PRESCRIPTION DRUG        Trulicity   \n",
       "4       NaN  0002-1436  HUMAN PRESCRIPTION DRUG         EMGALITY   \n",
       "\n",
       "  PROPRIETARYNAMESUFFIX NONPROPRIETARYNAME       DOSAGEFORMNAME     ROUTENAME  \\\n",
       "0                   NaN            diluent  INJECTION, SOLUTION  SUBCUTANEOUS   \n",
       "1                   NaN   Florbetapir F 18  INJECTION, SOLUTION   INTRAVENOUS   \n",
       "2                   NaN        Dulaglutide  INJECTION, SOLUTION  SUBCUTANEOUS   \n",
       "3                   NaN        Dulaglutide  INJECTION, SOLUTION  SUBCUTANEOUS   \n",
       "4                   NaN       galcanezumab  INJECTION, SOLUTION  SUBCUTANEOUS   \n",
       "\n",
       "   STARTMARKETINGDATE  ENDMARKETINGDATE MARKETINGCATEGORYNAME  \\\n",
       "0            19870710               NaN                   NDA   \n",
       "1            20120601               NaN                   NDA   \n",
       "2            20140918               NaN                   BLA   \n",
       "3            20140918               NaN                   BLA   \n",
       "4            20180927               NaN                   BLA   \n",
       "\n",
       "  APPLICATIONNUMBER LABELERNAME     SUBSTANCENAME ACTIVE_NUMERATOR_STRENGTH  \\\n",
       "0         NDA018781          10             WATER                         1   \n",
       "1         NDA202008          10  FLORBETAPIR F-18                        51   \n",
       "2         BLA125469          10       DULAGLUTIDE                       .75   \n",
       "3         BLA125469          10       DULAGLUTIDE                       1.5   \n",
       "4         BLA761063          10      GALCANEZUMAB                       120   \n",
       "\n",
       "  ACTIVE_INGRED_UNIT                                      PHARM_CLASSES  \\\n",
       "0              mL/mL                                                NaN   \n",
       "1             mCi/mL  Radioactive Diagnostic Agent [EPC],Positron Em...   \n",
       "2            mg/.5mL  GLP-1 Receptor Agonist [EPC],Glucagon-Like Pep...   \n",
       "3            mg/.5mL  GLP-1 Receptor Agonist [EPC],Glucagon-Like Pep...   \n",
       "4              mg/mL                                                NaN   \n",
       "\n",
       "  DEASCHEDULE NDC_EXCLUDE_FLAG  LISTING_RECORD_CERTIFIED_THROUGH  \n",
       "0         NaN                N                        20201231.0  \n",
       "1         NaN                N                        20211231.0  \n",
       "2         NaN                N                        20201231.0  \n",
       "3         NaN                N                        20201231.0  \n",
       "4         NaN                N                        20201231.0  "
      ]
     },
     "metadata": {},
     "output_type": "display_data"
    },
    {
     "name": "stdout",
     "output_type": "stream",
     "text": [
      "Package table:\n"
     ]
    },
    {
     "data": {
      "text/html": [
       "<div>\n",
       "<style scoped>\n",
       "    .dataframe tbody tr th:only-of-type {\n",
       "        vertical-align: middle;\n",
       "    }\n",
       "\n",
       "    .dataframe tbody tr th {\n",
       "        vertical-align: top;\n",
       "    }\n",
       "\n",
       "    .dataframe thead th {\n",
       "        text-align: right;\n",
       "    }\n",
       "</style>\n",
       "<table border=\"1\" class=\"dataframe\">\n",
       "  <thead>\n",
       "    <tr style=\"text-align: right;\">\n",
       "      <th></th>\n",
       "      <th>PRODUCTID</th>\n",
       "      <th>PRODUCTNDC</th>\n",
       "      <th>NDCPACKAGECODE</th>\n",
       "      <th>PACKAGEDESCRIPTION</th>\n",
       "      <th>STARTMARKETINGDATE</th>\n",
       "      <th>ENDMARKETINGDATE</th>\n",
       "      <th>NDC_EXCLUDE_FLAG</th>\n",
       "      <th>SAMPLE_PACKAGE</th>\n",
       "    </tr>\n",
       "  </thead>\n",
       "  <tbody>\n",
       "    <tr>\n",
       "      <th>0</th>\n",
       "      <td>0002-0800_94c48759-29bb-402d-afff-9a713be11f0e</td>\n",
       "      <td>0002-0800</td>\n",
       "      <td>0002-0800-01</td>\n",
       "      <td>1 VIAL in 1 CARTON (0002-0800-01)  &gt; 10 mL in ...</td>\n",
       "      <td>19870710</td>\n",
       "      <td>NaN</td>\n",
       "      <td>N</td>\n",
       "      <td>N</td>\n",
       "    </tr>\n",
       "    <tr>\n",
       "      <th>1</th>\n",
       "      <td>0002-1200_35551a38-7a8d-43b8-8abd-f6cb7549e932</td>\n",
       "      <td>0002-1200</td>\n",
       "      <td>0002-1200-30</td>\n",
       "      <td>1 VIAL, MULTI-DOSE in 1 CAN (0002-1200-30)  &gt; ...</td>\n",
       "      <td>20120601</td>\n",
       "      <td>NaN</td>\n",
       "      <td>N</td>\n",
       "      <td>N</td>\n",
       "    </tr>\n",
       "    <tr>\n",
       "      <th>2</th>\n",
       "      <td>0002-1200_35551a38-7a8d-43b8-8abd-f6cb7549e932</td>\n",
       "      <td>0002-1200</td>\n",
       "      <td>0002-1200-50</td>\n",
       "      <td>1 VIAL, MULTI-DOSE in 1 CAN (0002-1200-50)  &gt; ...</td>\n",
       "      <td>20120601</td>\n",
       "      <td>NaN</td>\n",
       "      <td>N</td>\n",
       "      <td>N</td>\n",
       "    </tr>\n",
       "    <tr>\n",
       "      <th>3</th>\n",
       "      <td>0002-1433_42a80046-fd68-4b80-819c-a443b7816edb</td>\n",
       "      <td>0002-1433</td>\n",
       "      <td>0002-1433-61</td>\n",
       "      <td>2 SYRINGE in 1 CARTON (0002-1433-61)  &gt; .5 mL ...</td>\n",
       "      <td>20141107</td>\n",
       "      <td>NaN</td>\n",
       "      <td>N</td>\n",
       "      <td>Y</td>\n",
       "    </tr>\n",
       "    <tr>\n",
       "      <th>4</th>\n",
       "      <td>0002-1433_42a80046-fd68-4b80-819c-a443b7816edb</td>\n",
       "      <td>0002-1433</td>\n",
       "      <td>0002-1433-80</td>\n",
       "      <td>4 SYRINGE in 1 CARTON (0002-1433-80)  &gt; .5 mL ...</td>\n",
       "      <td>20141107</td>\n",
       "      <td>NaN</td>\n",
       "      <td>N</td>\n",
       "      <td>N</td>\n",
       "    </tr>\n",
       "  </tbody>\n",
       "</table>\n",
       "</div>"
      ],
      "text/plain": [
       "                                        PRODUCTID PRODUCTNDC NDCPACKAGECODE  \\\n",
       "0  0002-0800_94c48759-29bb-402d-afff-9a713be11f0e  0002-0800   0002-0800-01   \n",
       "1  0002-1200_35551a38-7a8d-43b8-8abd-f6cb7549e932  0002-1200   0002-1200-30   \n",
       "2  0002-1200_35551a38-7a8d-43b8-8abd-f6cb7549e932  0002-1200   0002-1200-50   \n",
       "3  0002-1433_42a80046-fd68-4b80-819c-a443b7816edb  0002-1433   0002-1433-61   \n",
       "4  0002-1433_42a80046-fd68-4b80-819c-a443b7816edb  0002-1433   0002-1433-80   \n",
       "\n",
       "                                  PACKAGEDESCRIPTION  STARTMARKETINGDATE  \\\n",
       "0  1 VIAL in 1 CARTON (0002-0800-01)  > 10 mL in ...            19870710   \n",
       "1  1 VIAL, MULTI-DOSE in 1 CAN (0002-1200-30)  > ...            20120601   \n",
       "2  1 VIAL, MULTI-DOSE in 1 CAN (0002-1200-50)  > ...            20120601   \n",
       "3  2 SYRINGE in 1 CARTON (0002-1433-61)  > .5 mL ...            20141107   \n",
       "4  4 SYRINGE in 1 CARTON (0002-1433-80)  > .5 mL ...            20141107   \n",
       "\n",
       "   ENDMARKETINGDATE NDC_EXCLUDE_FLAG SAMPLE_PACKAGE  \n",
       "0               NaN                N              N  \n",
       "1               NaN                N              N  \n",
       "2               NaN                N              N  \n",
       "3               NaN                N              Y  \n",
       "4               NaN                N              N  "
      ]
     },
     "metadata": {},
     "output_type": "display_data"
    }
   ],
   "source": [
    "# import libs\n",
    "from matplotlib import pyplot as plt\n",
    "from IPython.display import display\n",
    "import seaborn as sns\n",
    "import pandas as pd\n",
    "import numpy as np\n",
    "import datetime\n",
    "import re\n",
    "\n",
    "# read CSVs\n",
    "dfProd = pd.read_csv('./product2.csv', sep=';', encoding='latin1')\n",
    "dfPack = pd.read_csv('./package2.csv', sep=';', encoding='latin1')\n",
    "\n",
    "# print\n",
    "print(\"Product table:\")\n",
    "display(dfProd.head())\n",
    "print(\"Package table:\")\n",
    "display(dfPack.head())"
   ]
  },
  {
   "attachments": {},
   "cell_type": "markdown",
   "id": "81c07acb",
   "metadata": {},
   "source": [
    "### Question 1 & Question 2\n",
    "\n",
    "Pour des raisons de simplicité, nous allons répondre à ces deux questions simultanément : en effet, la majorité des incohérences sont causées par un non respect de certaines règles. Il serait donc redondant de traiter les deux questions séparément lorsqu'en réalité elles sont intrinsèquement liées."
   ]
  },
  {
   "cell_type": "code",
   "execution_count": 460,
   "id": "748f4bf8",
   "metadata": {},
   "outputs": [],
   "source": [
    "# a simple function showing some information about the passed df\n",
    "def describeDF(df):\n",
    "    end = '\\033[0m'\n",
    "    underline = '\\033[4m'\n",
    "\n",
    "    print(underline + \"Data frame shape:\" + end)\n",
    "    print(df.shape)\n",
    "    \n",
    "    print(underline + \"Columns types:\" + end)\n",
    "    print(df.dtypes)\n",
    "\n",
    "    print(underline + \"Percentage of missing values for each columns:\" + end)\n",
    "    print(df.isnull().sum() * 100 / len(df))"
   ]
  },
  {
   "cell_type": "code",
   "execution_count": 461,
   "id": "8fea480d",
   "metadata": {},
   "outputs": [
    {
     "name": "stdout",
     "output_type": "stream",
     "text": [
      "\u001b[4mData frame shape:\u001b[0m\n",
      "(93238, 20)\n",
      "\u001b[4mColumns types:\u001b[0m\n",
      "PRODUCTID                            object\n",
      "PRODUCTNDC                           object\n",
      "PRODUCTTYPENAME                      object\n",
      "PROPRIETARYNAME                      object\n",
      "PROPRIETARYNAMESUFFIX                object\n",
      "NONPROPRIETARYNAME                   object\n",
      "DOSAGEFORMNAME                       object\n",
      "ROUTENAME                            object\n",
      "STARTMARKETINGDATE                    int64\n",
      "ENDMARKETINGDATE                    float64\n",
      "MARKETINGCATEGORYNAME                object\n",
      "APPLICATIONNUMBER                    object\n",
      "LABELERNAME                          object\n",
      "SUBSTANCENAME                        object\n",
      "ACTIVE_NUMERATOR_STRENGTH            object\n",
      "ACTIVE_INGRED_UNIT                   object\n",
      "PHARM_CLASSES                        object\n",
      "DEASCHEDULE                          object\n",
      "NDC_EXCLUDE_FLAG                     object\n",
      "LISTING_RECORD_CERTIFIED_THROUGH    float64\n",
      "dtype: object\n",
      "\u001b[4mPercentage of missing values for each columns:\u001b[0m\n",
      "PRODUCTID                            1.673138\n",
      "PRODUCTNDC                           0.000000\n",
      "PRODUCTTYPENAME                      0.000000\n",
      "PROPRIETARYNAME                      0.006435\n",
      "PROPRIETARYNAMESUFFIX               89.099938\n",
      "NONPROPRIETARYNAME                   0.004290\n",
      "DOSAGEFORMNAME                       0.000000\n",
      "ROUTENAME                            2.072117\n",
      "STARTMARKETINGDATE                   0.000000\n",
      "ENDMARKETINGDATE                    95.363478\n",
      "MARKETINGCATEGORYNAME                0.000000\n",
      "APPLICATIONNUMBER                   14.046848\n",
      "LABELERNAME                          0.000000\n",
      "SUBSTANCENAME                        2.476458\n",
      "ACTIVE_NUMERATOR_STRENGTH            2.476458\n",
      "ACTIVE_INGRED_UNIT                   2.476458\n",
      "PHARM_CLASSES                       54.681568\n",
      "DEASCHEDULE                         95.256226\n",
      "NDC_EXCLUDE_FLAG                     0.000000\n",
      "LISTING_RECORD_CERTIFIED_THROUGH     4.638667\n",
      "dtype: float64\n"
     ]
    }
   ],
   "source": [
    "# product table\n",
    "describeDF(dfProd)"
   ]
  },
  {
   "attachments": {},
   "cell_type": "markdown",
   "id": "9c455783",
   "metadata": {},
   "source": [
    "Commençons tout d'abord par la table produit, elle contient 93238 lignes et 20 attributs :\n",
    "\n",
    "- ``PRODUCTID`` : Cette colonne est la concaténation du code NDC de la colonne ``PRODUCTNDC`` et d'une donnée inconnue nommée ``SPL`` séparée par un tiret. Elle ne doit pas contenir de valeur NULL et doit être de type string. Or, elle contient 1.67 % de NULL. Cependant, elle n'est d'aucune utilité à part pour join les deux tables.\n",
    "\n",
    "- ``PRODUCTNDC`` : Cette colonne est la concaténation d'un code NDC et du code de l'étiqueteur séparée par un tiret. Elle ne doit pas contenir de valeur NULL et doit être de type string. On pourra vérifier que pour chaque ligne on a bien la cohérence inter-attribut avec la colonne ``PRODUCTID`` (au niveau du code NDC).\n",
    "\n",
    "- ``PRODUCTTYPENAME`` : Cette colonne indique le type de produit. Elle ne doit pas contenir de valeur NULL et doit être de type string. On pourra étudier les valeurs qu'elle contient pour voir s'ils sont cohérents par rapport à une description d'un médicament.\n",
    "\n",
    "- ``PROPRIETARYNAME`` : Cette colonne contient le nom commercial du produit. Elle ne doit pas contenir de valeur NULL et doit être de type string. Or, elle contient un faible niveau de valeur NULL (0.006435 %).\n",
    "\n",
    "- ``PROPRIETARYNAMESUFFIX`` : Cette colonne contient le suffixe du nom commercial du produit. Elle peut contenir des valeurs NULL et doit être de type string. On remarque un niveau élevé de valeur NULL (89 %), ce qui la rend d'une faible utilité car elle est vraiment optionnelle. De plus, on ne peut vérifier le format de chaque entrée car il n'existe aucun standard et chaque fabricant utilise sa propre convention.\n",
    "\n",
    "- ``NONPROPRIETARYNAME`` : Cette colonne contient une liste de string décrivant les noms génériques du produit et ne peut pas contenir des valeurs NULL. Or, elle contient un faible niveau de valeur NULL (0.004290 %).\n",
    "\n",
    "- ``DOSAGEFORMNAME`` : Cette colonne décrit la forme du médicament. Elle ne doit pas contenir de valeur NULL et doit être de type string. On pourra vérifier la cohérence des valeurs avec la liste de code fourni par la FDA (voir le fichier ``DosageForms.txt``).\n",
    "\n",
    "- ``ROUTENAME`` : Cette colonne contient une liste de string décrivant les moyens d'administration du produit et ne peut pas contenir des valeurs NULL. Or, elle contient un faible niveau de valeur NULL (2.072117 %). On pourra vérifier la cohérence des valeurs avec la liste de code fourni par la FDA (voir le fichier ``RouteNames.txt``).\n",
    "\n",
    "- ``STARTMARKETINGDATE`` : Cette colonne contient la date de la mise en marché du produit. Elle ne doit pas contenir de valeur NULL et doit être de type string. Or, on remarque qu'elle est de type ``int``. Il sera donc nécessaire de la transformer en date et de vérifier si elles sont cohérentes.\n",
    "\n",
    "- ``ENDMARKETINGDATE`` : Cette colonne contient la date de la fin de la commercialisation du produit. Elle peut contenir des valeur NULL et doit être de type string. Or, on remarque qu'elle est de type ``float``. Il sera donc nécessaire de la transformer en date et de vérifier si elles sont cohérentes. Par ailleurs, on remarque qu'elle contient énormément de valeur NULL (95 %), ce qui signifie que la majorité des produits sont toujours en train d'être fabriqués et commercialisés, ce qui réduit l'importance de cette colonne. \n",
    "\n",
    "- ``MARKETINGCATEGORYNAME`` : Cette colonne contient la catégorie du produit. Elle ne doit pas contenir de valeur NULL et doit être de type string. On pourra vérifier la cohérence des valeurs avec la liste de code fourni par la FDA (voir le fichier ``MarketingCatNames.txt``).\n",
    "\n",
    "- ``APPLICATIONNUMBER`` : Cette colonne contient le numéro d'application du produit. Elle doit être de type string et une valeur NULL signifie que le produit n'est pas approuvé par la FDA. Il contient un suffixe qui est identique à la valeur dans la colonne ``MARKETINGCATEGORYNAME`` et cela est à vérifier. \n",
    "\n",
    "- ``LABELERNAME`` : Cette colonne contient le nom de l'étiqueteur. Elle ne doit pas contenir de valeur NULL et doit être de type string.\n",
    "\n",
    "- ``SUBSTANCENAME``, ``ACTIVE_NUMERATOR_STRENGTH``, ``ACTIVE_INGRED_UNIT`` : Ces 3 attributs sont liés et décrivent la composition chimique du produit. Ils ne doivent pas contenir de valeur NULL et doivent être de type string. Or, on remarque que chacune de ces colonnes possède le même pourcentage de NULL ce qui signifie que si une ligne possède une valeur NULL dans l'une des colonnes alors cela doit être le cas pour les deux autres. On pourra vérifier si elles contiennent le même nombre d'éléments car chaque attribut contient des listes. Par ailleurs, on peut aussi vérifier si la colonne ``ACTIVE_NUMERATOR_STRENGTH`` contient des digits.\n",
    "\n",
    "- ``PHARM_CLASSES`` : Cette colonne décrit via une liste de string les classes pharmaceutiques des substances de la colonne ``SUBSTANCENAME``. Elle ne doit pas contenir de valeur NULL. Or, on remarque qu'elle contient 54.681568 % de valeur NULL.\n",
    "\n",
    "- ``DEASCHEDULE`` : Cette colonne contient des strings avec pour valeur : CI, CII, CIII, CIV, et CV. Elle ne doit pas contenir de valeur NULL. Or, on remarque qu'elle a un niveau élevé de valeur NULL (95.256226 %). Elle indique le pouvoir de dépendance du produit, on peut donc imaginer si un produit a une valeur NULL, alors celui-ci n'a aucun pouvoir de dépendance.  \n",
    "\n",
    "- ``NDC_EXCLUDE_FLAG`` : Cette colonne indique si le produit est exclu des fichiers du NDC pour X raisons. Dans notre cas, le fichier chargé ne contient que des produits acceptés. Pour cela, normalement l'unique valeur contenue dans cette colonne est ``N``, ce qu'il faudra vérifier.\n",
    "\n",
    "- ``LISTING_RECORD_CERTIFIED_THROUGH`` : Cette colonne contient la date d’expiration de l'inscription du produit si pas mis à jour par l'entreprise. Comme pour les autres colonnes contenant des dates, il faut la transformer en date et vérifier sa cohérence. Finalement, elle ne doit pas contenir de valeur NULL, or, elle en contient très peu (4.638667 %)."
   ]
  },
  {
   "cell_type": "code",
   "execution_count": 462,
   "id": "654dd5ee",
   "metadata": {},
   "outputs": [
    {
     "name": "stdout",
     "output_type": "stream",
     "text": [
      "\u001b[4mData frame shape:\u001b[0m\n",
      "(173887, 8)\n",
      "\u001b[4mColumns types:\u001b[0m\n",
      "PRODUCTID              object\n",
      "PRODUCTNDC             object\n",
      "NDCPACKAGECODE         object\n",
      "PACKAGEDESCRIPTION     object\n",
      "STARTMARKETINGDATE      int64\n",
      "ENDMARKETINGDATE      float64\n",
      "NDC_EXCLUDE_FLAG       object\n",
      "SAMPLE_PACKAGE         object\n",
      "dtype: object\n",
      "\u001b[4mPercentage of missing values for each columns:\u001b[0m\n",
      "PRODUCTID              0.000000\n",
      "PRODUCTNDC             0.862629\n",
      "NDCPACKAGECODE         1.349152\n",
      "PACKAGEDESCRIPTION     0.000000\n",
      "STARTMARKETINGDATE     0.000000\n",
      "ENDMARKETINGDATE      96.287244\n",
      "NDC_EXCLUDE_FLAG       0.000000\n",
      "SAMPLE_PACKAGE         0.000000\n",
      "dtype: float64\n"
     ]
    }
   ],
   "source": [
    "# package table\n",
    "describeDF(dfPack)"
   ]
  },
  {
   "attachments": {},
   "cell_type": "markdown",
   "id": "c5b32c4c",
   "metadata": {},
   "source": [
    "Passons maintenant au second tableau contenant 173887 lignes et 8 attributs. On remarque tout d'abord que celui-ci possède plus de lignes que le tableau sur les produits ce qui signifie qu'un produit peut être présent dans plusieurs paquets. De plus, certains attributs sont aussi présents dans le tableau sur les produits. Par conséquent, on ne les traitera pas car nous aurons les mêmes observations :\n",
    "\n",
    "- ``NDCPACKAGECODE`` : Cette colonne est la concaténation de la colonne ``PRODUCTNDC`` et du code de chaque paquet. Elle ne doit pas contenir de valeur NULL et doit être de type string. Cependant, celle-ci contient un léger pourcentage de valeur NULL (1.349152 %). On pourra vérifier la cohérence inter-attribut avec la colonne ``PRODUCTNDC``. \n",
    "\n",
    "- ``PACKAGEDESCRIPTION`` : Cette colonne contient la description du paquet. Elle ne doit pas contenir de valeur NULL et doit être de type string. Elle contient aussi le ``NDCPACKAGECODE``, on pourra donc vérifier la cohérence inter-attributs avec cette dite colonne.\n",
    "\n",
    "- ``SAMPLE_PACKAGE`` : Cette colonne permet de savoir si le paquet est distribué en tant qu'échantillon ou pas. Les valeurs possibles sont 'Y' ou 'N' et c'est une règle à vérifier.\n",
    "\n",
    "### Question 3\n",
    "\n",
    "Dans cette question, nous allons résoudre les incohérences posées par le non respect des règles décrites dans la question 1 & question 2. On ne traitera pas les problèmes posés par les valeurs manquantes vu que cela sera fait à la prochaine question. Par ailleurs, par résoudre, on veut dire supprimer dans la majorité des cas (lorsque le nombre d'incohérence est très élevé et qu'il n'est pas possible de faire au cas par cas).\n",
    "\n",
    "#### Table produit\n",
    "* ##### PRODUCTID & PRODUCTNDC"
   ]
  },
  {
   "cell_type": "code",
   "execution_count": 463,
   "id": "4b5e9ee0",
   "metadata": {},
   "outputs": [
    {
     "name": "stdout",
     "output_type": "stream",
     "text": [
      "Number of incoherences dropped: 513\n"
     ]
    }
   ],
   "source": [
    "# fix inter-incoherence between col1 and col2 by checking if col2 is a substring or not of col1\n",
    "def fixInterIncoherence(df, col1, col2):\n",
    "    # dont treat rows with nan values\n",
    "    dfFiltered = df[df.loc[:,[col1,col2]].notnull().all(1)].loc[:,[col1,col2]]\n",
    "    col1 = dfFiltered.iloc[:,0]\n",
    "    col2 = dfFiltered.iloc[:,1]\n",
    "\n",
    "    # get idx where col2 is a not substring of col1\n",
    "    idxToDrop = dfFiltered.index[[x[0] not in x[1] for x in zip(col2, col1)]]\n",
    "\n",
    "    # drop rows\n",
    "    df.drop(index=idxToDrop, inplace=True)\n",
    "    print(\"Number of incoherences dropped:\", len(idxToDrop))\n",
    "\n",
    "# fix the inter-incoherence between the productID and the productNDC\n",
    "fixInterIncoherence(dfProd, 'PRODUCTID', 'PRODUCTNDC')"
   ]
  },
  {
   "attachments": {},
   "cell_type": "markdown",
   "id": "3a7bcc3d",
   "metadata": {},
   "source": [
    "On voit qu'il y a 513 lignes qui ne respectent pas la règle de cohérence entre les colonnes ``PRODUCTID`` et ``PRODUCTNDC``.\n",
    "\n",
    "* ##### PRODUCTTYPENAME"
   ]
  },
  {
   "cell_type": "code",
   "execution_count": 464,
   "id": "c9d1acae",
   "metadata": {},
   "outputs": [
    {
     "data": {
      "text/plain": [
       "array(['HUMAN OTC DRUG', 'HUMAN PRESCRIPTION DRUG', 'VACCINE',\n",
       "       'PLASMA DERIVATIVE', 'CELLULAR THERAPY',\n",
       "       'NON-STANDARDIZED ALLERGENIC', 'STANDARDIZED ALLERGENIC'],\n",
       "      dtype=object)"
      ]
     },
     "execution_count": 464,
     "metadata": {},
     "output_type": "execute_result"
    }
   ],
   "source": [
    "dfProd['PRODUCTTYPENAME'].unique()"
   ]
  },
  {
   "attachments": {},
   "cell_type": "markdown",
   "id": "2c189395",
   "metadata": {},
   "source": [
    "On remarque que les données contenues dans la colonne ``PRODUCTTYPENAME`` n'ont rien d'aberrant : il n'y a rien à modifier pour cette colonne donc.\n",
    "\n",
    "* ##### DOSAGEFORMNAME & ROUTENAME & MARKETINGCATEGORYNAME"
   ]
  },
  {
   "cell_type": "code",
   "execution_count": 465,
   "id": "1b5a6c41",
   "metadata": {},
   "outputs": [
    {
     "name": "stdout",
     "output_type": "stream",
     "text": [
      "Number of incoherences dropped: 0\n",
      "Number of incoherences dropped: 0\n",
      "Number of incoherences dropped: 0\n"
     ]
    }
   ],
   "source": [
    "# load fdc txt file as a set\n",
    "def loadDataFromFDA(file):\n",
    "    with open(file) as f:\n",
    "        return [line.rstrip('\\n').upper() for line in f]\n",
    "    \n",
    "# check the coherence between the fdc data and the col in df\n",
    "# the split option is used when the col contains a list of element\n",
    "def checkDataFromFDA(df, col, fda, split=False):\n",
    "    # get the corresponding col without nan values\n",
    "    dfFiltered = df[df[col].notnull()][col]\n",
    "    \n",
    "    # idx to be dropped\n",
    "    idxToDrop = list()\n",
    "\n",
    "    # if split is true, then split using the ';' delimiter\n",
    "    if split:\n",
    "        dfFiltered = dfFiltered.str.split(';')\n",
    "        idxToDrop = dfFiltered.index[[not all(y.strip().upper() in fda for y in x) for x in dfFiltered]]\n",
    "\n",
    "    else:\n",
    "        # check for each element in dfFiltered if they are in fda and get the corresponding indexes\n",
    "        idxToDrop = dfFiltered.index[[not x.strip().upper() in fda for x in dfFiltered]]\n",
    "\n",
    "    # drop rows\n",
    "    df.drop(index=idxToDrop, inplace=True)\n",
    "    print(\"Number of incoherences dropped:\", len(idxToDrop))\n",
    "\n",
    "# dosage   \n",
    "dosageFDA = loadDataFromFDA('./DosageForms.txt')\n",
    "checkDataFromFDA(dfProd, 'DOSAGEFORMNAME', dosageFDA)\n",
    "\n",
    "# route \n",
    "routeFDA = loadDataFromFDA('./RouteNames.txt')\n",
    "checkDataFromFDA(dfProd, 'ROUTENAME', routeFDA, True)\n",
    "\n",
    "# cat\n",
    "MarketingCatFDA = loadDataFromFDA('./MarketingCatNames.txt')\n",
    "checkDataFromFDA(dfProd, 'MARKETINGCATEGORYNAME', MarketingCatFDA)"
   ]
  },
  {
   "attachments": {},
   "cell_type": "markdown",
   "id": "a6114087",
   "metadata": {},
   "source": [
    "On remarque que les colonnes ``DOSAGEFORMNAME``, ``ROUTENAME`` et ``MARKETINGCATEGORYNAME`` n'ont aucune incohérence et contiennent bien les données de la FDA.\n",
    "\n",
    "* ##### STARTMARKETINGDATE & ENDMARKETINGDATE & LISTING_RECORD_CERTIFIED_THROUGH"
   ]
  },
  {
   "cell_type": "code",
   "execution_count": 466,
   "id": "2be6a623",
   "metadata": {},
   "outputs": [],
   "source": [
    "# convert col in the given df into a date column\n",
    "def convertDate(df, col):\n",
    "    # convert into date while setting invalid parsing to NaT\n",
    "    df[col] = pd.to_datetime(df[col], format=\"%Y%m%d\", errors='coerce')\n",
    "    \n",
    "# convert into dates\n",
    "convertDate(dfProd, 'STARTMARKETINGDATE')\n",
    "convertDate(dfProd, 'ENDMARKETINGDATE')\n",
    "convertDate(dfProd, 'LISTING_RECORD_CERTIFIED_THROUGH')"
   ]
  },
  {
   "attachments": {},
   "cell_type": "markdown",
   "id": "2edb2af8",
   "metadata": {},
   "source": [
    "Maintenant que nous avons transformé les colonnes en date lisible, on doit vérifier si la date de début est inférieure à celle de fin. De même pour la date d'expiration de l'inscription du produit qui doit être comparée à celle d'aujourd'hui."
   ]
  },
  {
   "cell_type": "code",
   "execution_count": 467,
   "id": "2a51bef3",
   "metadata": {},
   "outputs": [
    {
     "name": "stdout",
     "output_type": "stream",
     "text": [
      "Number of incoherences dropped: 0\n",
      "Number of incoherences dropped: 0\n"
     ]
    }
   ],
   "source": [
    "# check if d1 < d2 in the given df, and if it is the case, the function drops these rows\n",
    "# if today is equal to True then the function compare : current date < d1\n",
    "def compareDate(df, d1, d2, today=False):\n",
    "    # compare to get a mask\n",
    "    mask = df[d1] < df[d2] if not today else datetime.datetime.now() < df[d1]\n",
    "    # drop rows\n",
    "    df.drop(index=df[mask].index, inplace=True)\n",
    "    print(\"Number of incoherences dropped:\", mask.sum())\n",
    "\n",
    "# check if start < end\n",
    "compareDate(dfProd, 'ENDMARKETINGDATE', 'STARTMARKETINGDATE')\n",
    "# check if the expiration end is coherent with the current date\n",
    "compareDate(dfProd, 'LISTING_RECORD_CERTIFIED_THROUGH', _, True)"
   ]
  },
  {
   "attachments": {},
   "cell_type": "markdown",
   "id": "7baa90bf",
   "metadata": {},
   "source": [
    "Il n'y a aucun problème d'incohérence inter-attributs. Il faut maintenant vérifier si nous n'avons pas des dates aberrantes :"
   ]
  },
  {
   "cell_type": "code",
   "execution_count": 468,
   "id": "2500e91b",
   "metadata": {},
   "outputs": [
    {
     "name": "stdout",
     "output_type": "stream",
     "text": [
      "Column : STARTMARKETINGDATE, Max date: 1900-01-01 00:00:00, min date: 2020-02-14 00:00:00\n",
      "Column : ENDMARKETINGDATE, Max date: 2020-02-15 00:00:00, min date: 2039-08-31 00:00:00\n",
      "Column : LISTING_RECORD_CERTIFIED_THROUGH, Max date: 2020-12-31 00:00:00, min date: 2021-12-31 00:00:00\n"
     ]
    }
   ],
   "source": [
    "# print min and max date for the given col in df\n",
    "def printMinMaxDate(df, col):\n",
    "    print(\"Column : {}, Max date: {}, min date: {}\".format(col, df[col].min(), df[col].max()))\n",
    "\n",
    "# print\n",
    "printMinMaxDate(dfProd, 'STARTMARKETINGDATE')\n",
    "printMinMaxDate(dfProd, 'ENDMARKETINGDATE')\n",
    "printMinMaxDate(dfProd, 'LISTING_RECORD_CERTIFIED_THROUGH')"
   ]
  },
  {
   "attachments": {},
   "cell_type": "markdown",
   "id": "94df0f18",
   "metadata": {},
   "source": [
    "La FDA a été fondée en 1906, il semblerait donc que la date 1900-01-01 soit aberrante. On peut donc la supprimer :"
   ]
  },
  {
   "cell_type": "code",
   "execution_count": 469,
   "id": "f181e7d2",
   "metadata": {},
   "outputs": [
    {
     "name": "stdout",
     "output_type": "stream",
     "text": [
      "Column : STARTMARKETINGDATE, Max date: 1900-01-07 00:00:00, min date: 2020-02-14 00:00:00\n"
     ]
    }
   ],
   "source": [
    "# get mask\n",
    "mask = dfProd['STARTMARKETINGDATE'] == dfProd['STARTMARKETINGDATE'].min()\n",
    "# drop rows\n",
    "dfProd.drop(index=dfProd[mask].index, inplace=True)\n",
    "# recheck\n",
    "printMinMaxDate(dfProd, 'STARTMARKETINGDATE')"
   ]
  },
  {
   "attachments": {},
   "cell_type": "markdown",
   "id": "c5d1a653",
   "metadata": {},
   "source": [
    "Nous obtenons encore une date aberrante, il faut donc la supprimer :"
   ]
  },
  {
   "cell_type": "code",
   "execution_count": 470,
   "id": "fdc22798",
   "metadata": {},
   "outputs": [
    {
     "name": "stdout",
     "output_type": "stream",
     "text": [
      "Column : STARTMARKETINGDATE, Max date: 1907-04-15 00:00:00, min date: 2020-02-14 00:00:00\n"
     ]
    }
   ],
   "source": [
    "# get mask\n",
    "mask = dfProd['STARTMARKETINGDATE'] == dfProd['STARTMARKETINGDATE'].min()\n",
    "# drop rows\n",
    "dfProd.drop(index=dfProd[mask].index, inplace=True)\n",
    "# recheck\n",
    "printMinMaxDate(dfProd, 'STARTMARKETINGDATE')"
   ]
  },
  {
   "attachments": {},
   "cell_type": "markdown",
   "id": "16bd02a8",
   "metadata": {},
   "source": [
    "* ##### APPLICATIONNUMBER"
   ]
  },
  {
   "cell_type": "code",
   "execution_count": 471,
   "id": "482fd493",
   "metadata": {},
   "outputs": [
    {
     "name": "stdout",
     "output_type": "stream",
     "text": [
      "Number of incoherences: 2\n"
     ]
    },
    {
     "data": {
      "text/html": [
       "<div>\n",
       "<style scoped>\n",
       "    .dataframe tbody tr th:only-of-type {\n",
       "        vertical-align: middle;\n",
       "    }\n",
       "\n",
       "    .dataframe tbody tr th {\n",
       "        vertical-align: top;\n",
       "    }\n",
       "\n",
       "    .dataframe thead th {\n",
       "        text-align: right;\n",
       "    }\n",
       "</style>\n",
       "<table border=\"1\" class=\"dataframe\">\n",
       "  <thead>\n",
       "    <tr style=\"text-align: right;\">\n",
       "      <th></th>\n",
       "      <th>MARKETINGCATEGORYNAME</th>\n",
       "      <th>APPLICATIONNUMBER</th>\n",
       "    </tr>\n",
       "  </thead>\n",
       "  <tbody>\n",
       "    <tr>\n",
       "      <th>26428</th>\n",
       "      <td>OTC MONOGRAPH FINAL</td>\n",
       "      <td>333D</td>\n",
       "    </tr>\n",
       "    <tr>\n",
       "      <th>90014</th>\n",
       "      <td>OTC MONOGRAPH NOT FINAL</td>\n",
       "      <td>part</td>\n",
       "    </tr>\n",
       "  </tbody>\n",
       "</table>\n",
       "</div>"
      ],
      "text/plain": [
       "         MARKETINGCATEGORYNAME APPLICATIONNUMBER\n",
       "26428      OTC MONOGRAPH FINAL              333D\n",
       "90014  OTC MONOGRAPH NOT FINAL              part"
      ]
     },
     "metadata": {},
     "output_type": "display_data"
    }
   ],
   "source": [
    "# check the inter-incoherence between the app number and the marketing cat\n",
    "def checkAppNumber(df):\n",
    "    # dont treat rows with nan values\n",
    "    dfFiltered = dfProd[dfProd.iloc[:,[10,11]].notnull().all(1)].iloc[:,[10,11]]\n",
    "    col1 = dfFiltered.iloc[:,0]\n",
    "    col2 = dfFiltered.iloc[:,1]\n",
    "\n",
    "    # get idx where the inter-incoherence is not respected\n",
    "    idxToDrop = list()\n",
    "    for x in zip(col1, col2, col1.index):\n",
    "        # get category\n",
    "        cat = x[0].split(' ')[0]\n",
    "\n",
    "        # check if the application number contains a single digit\n",
    "        if not any(i.isdigit() for i in x[1]):\n",
    "            idxToDrop.append(x[2])\n",
    "        \n",
    "        # check if cat is a substring of the application number\n",
    "        elif cat not in x[1]:\n",
    "            if cat == 'OTC':\n",
    "                if 'part' not in x[1]:\n",
    "                    idxToDrop.append(x[2])\n",
    "            elif cat == 'NDA':\n",
    "                if 'BN' not in x[1]:\n",
    "                    idxToDrop.append(x[2])\n",
    "            elif cat == 'ANDA':\n",
    "                if 'BA' not in x[1]:\n",
    "                    idxToDrop.append(x[2])\n",
    "            else:\n",
    "                idxToDrop.append(x[2])\n",
    "                \n",
    "    # print\n",
    "    print(\"Number of incoherences:\", len(idxToDrop))\n",
    "    display(df.loc[idxToDrop, df.columns[[10,11]]])\n",
    "        \n",
    "checkAppNumber(dfProd)"
   ]
  },
  {
   "attachments": {},
   "cell_type": "markdown",
   "id": "8d2c4d1b",
   "metadata": {},
   "source": [
    "On remarque que nous avons que deux incohérences, nous pouvons donc les corriger : \n",
    "- pour la première, il suffit d'ajouter le préfixe ``part`` qui semble être oublié.\n",
    "- concernant la seconde, c'est le numéro qui semble être oublié, ce qui nous oblige à supprimer cette ligne."
   ]
  },
  {
   "cell_type": "code",
   "execution_count": 472,
   "id": "fbc0ff1b",
   "metadata": {},
   "outputs": [
    {
     "name": "stdout",
     "output_type": "stream",
     "text": [
      "Number of incoherences: 0\n"
     ]
    },
    {
     "data": {
      "text/html": [
       "<div>\n",
       "<style scoped>\n",
       "    .dataframe tbody tr th:only-of-type {\n",
       "        vertical-align: middle;\n",
       "    }\n",
       "\n",
       "    .dataframe tbody tr th {\n",
       "        vertical-align: top;\n",
       "    }\n",
       "\n",
       "    .dataframe thead th {\n",
       "        text-align: right;\n",
       "    }\n",
       "</style>\n",
       "<table border=\"1\" class=\"dataframe\">\n",
       "  <thead>\n",
       "    <tr style=\"text-align: right;\">\n",
       "      <th></th>\n",
       "      <th>MARKETINGCATEGORYNAME</th>\n",
       "      <th>APPLICATIONNUMBER</th>\n",
       "    </tr>\n",
       "  </thead>\n",
       "  <tbody>\n",
       "  </tbody>\n",
       "</table>\n",
       "</div>"
      ],
      "text/plain": [
       "Empty DataFrame\n",
       "Columns: [MARKETINGCATEGORYNAME, APPLICATIONNUMBER]\n",
       "Index: []"
      ]
     },
     "metadata": {},
     "output_type": "display_data"
    }
   ],
   "source": [
    "# add part prefix\n",
    "dfProd.loc[26428, 'APPLICATIONNUMBER'] = 'part333D'\n",
    "# drop the row missing the application number\n",
    "dfProd.drop(index=90014, inplace=True)\n",
    "# recheck\n",
    "checkAppNumber(dfProd)"
   ]
  },
  {
   "attachments": {},
   "cell_type": "markdown",
   "id": "6e4144b9",
   "metadata": {},
   "source": [
    "* ##### SUBSTANCENAME & ACTIVE_NUMERATOR_STRENGTH & ACTIVE_INGRED_UNIT"
   ]
  },
  {
   "cell_type": "code",
   "execution_count": 473,
   "id": "1671b555",
   "metadata": {},
   "outputs": [
    {
     "name": "stdout",
     "output_type": "stream",
     "text": [
      "Number of incoherences: 1\n"
     ]
    },
    {
     "data": {
      "text/html": [
       "<div>\n",
       "<style scoped>\n",
       "    .dataframe tbody tr th:only-of-type {\n",
       "        vertical-align: middle;\n",
       "    }\n",
       "\n",
       "    .dataframe tbody tr th {\n",
       "        vertical-align: top;\n",
       "    }\n",
       "\n",
       "    .dataframe thead th {\n",
       "        text-align: right;\n",
       "    }\n",
       "</style>\n",
       "<table border=\"1\" class=\"dataframe\">\n",
       "  <thead>\n",
       "    <tr style=\"text-align: right;\">\n",
       "      <th></th>\n",
       "      <th>SUBSTANCENAME</th>\n",
       "      <th>ACTIVE_NUMERATOR_STRENGTH</th>\n",
       "      <th>ACTIVE_INGRED_UNIT</th>\n",
       "    </tr>\n",
       "  </thead>\n",
       "  <tbody>\n",
       "    <tr>\n",
       "      <th>90536</th>\n",
       "      <td>GLYCERIN; HYDROLYZED SOY PROTEIN (ENZYMATIC; 2...</td>\n",
       "      <td>10; .12</td>\n",
       "      <td>g/100g; g/100g</td>\n",
       "    </tr>\n",
       "  </tbody>\n",
       "</table>\n",
       "</div>"
      ],
      "text/plain": [
       "                                           SUBSTANCENAME  \\\n",
       "90536  GLYCERIN; HYDROLYZED SOY PROTEIN (ENZYMATIC; 2...   \n",
       "\n",
       "      ACTIVE_NUMERATOR_STRENGTH ACTIVE_INGRED_UNIT  \n",
       "90536                   10; .12     g/100g; g/100g  "
      ]
     },
     "metadata": {},
     "output_type": "display_data"
    }
   ],
   "source": [
    "# check the inter-incoherence between the substance name, the active strength and the active ingredient\n",
    "def checkSubstance(df):\n",
    "    # dont treat rows with nan values\n",
    "    dfFiltered = dfProd[dfProd.iloc[:,[13,14,15]].notnull().all(1)].iloc[:,[13,14,15]]\n",
    "    col1 = dfFiltered.iloc[:,0]\n",
    "    col2 = dfFiltered.iloc[:,1]\n",
    "    col3 = dfFiltered.iloc[:,2]\n",
    "\n",
    "    # get idx where the inter-incoherence is not respected\n",
    "    idxToDrop = list()\n",
    "    for x in zip(col1, col2, col3, col1.index):\n",
    "        # split to list\n",
    "        l1 = x[0].split(';')\n",
    "        l2 = x[1].split(';')\n",
    "        l3 = x[2].split(';')\n",
    "\n",
    "        # check size\n",
    "        if not len(l1) == len(l2) == len(l3):\n",
    "            idxToDrop.append(x[3])\n",
    "            pass\n",
    "\n",
    "        # check digits\n",
    "        for d in l2:\n",
    "            try:\n",
    "                float(d)\n",
    "            except:\n",
    "                idxToDrop.append(x[3])\n",
    "                break\n",
    "\n",
    "    # print\n",
    "    print(\"Number of incoherences:\", len(idxToDrop))\n",
    "    display(df.loc[idxToDrop, df.columns[[13,14,15]]])\n",
    "\n",
    "checkSubstance(dfProd)"
   ]
  },
  {
   "attachments": {},
   "cell_type": "markdown",
   "id": "7d883925",
   "metadata": {},
   "source": [
    "On remarque que nous avons qu'une incohérence et elle est causée par l'ajout d'un point virgule au niveau du ``SUBSTANCENAME`` :"
   ]
  },
  {
   "cell_type": "code",
   "execution_count": 474,
   "id": "f1751ec2",
   "metadata": {},
   "outputs": [
    {
     "data": {
      "text/plain": [
       "'GLYCERIN; HYDROLYZED SOY PROTEIN (ENZYMATIC; 2000 MW)'"
      ]
     },
     "execution_count": 474,
     "metadata": {},
     "output_type": "execute_result"
    }
   ],
   "source": [
    "# print\n",
    "dfProd.loc[90536,'SUBSTANCENAME']"
   ]
  },
  {
   "attachments": {},
   "cell_type": "markdown",
   "id": "462d8378",
   "metadata": {},
   "source": [
    "Il suffit juste de supprimer le point virgule pour fixer le problème :"
   ]
  },
  {
   "cell_type": "code",
   "execution_count": 475,
   "id": "3e1ee8c0",
   "metadata": {},
   "outputs": [
    {
     "name": "stdout",
     "output_type": "stream",
     "text": [
      "Number of incoherences: 0\n"
     ]
    },
    {
     "data": {
      "text/html": [
       "<div>\n",
       "<style scoped>\n",
       "    .dataframe tbody tr th:only-of-type {\n",
       "        vertical-align: middle;\n",
       "    }\n",
       "\n",
       "    .dataframe tbody tr th {\n",
       "        vertical-align: top;\n",
       "    }\n",
       "\n",
       "    .dataframe thead th {\n",
       "        text-align: right;\n",
       "    }\n",
       "</style>\n",
       "<table border=\"1\" class=\"dataframe\">\n",
       "  <thead>\n",
       "    <tr style=\"text-align: right;\">\n",
       "      <th></th>\n",
       "      <th>SUBSTANCENAME</th>\n",
       "      <th>ACTIVE_NUMERATOR_STRENGTH</th>\n",
       "      <th>ACTIVE_INGRED_UNIT</th>\n",
       "    </tr>\n",
       "  </thead>\n",
       "  <tbody>\n",
       "  </tbody>\n",
       "</table>\n",
       "</div>"
      ],
      "text/plain": [
       "Empty DataFrame\n",
       "Columns: [SUBSTANCENAME, ACTIVE_NUMERATOR_STRENGTH, ACTIVE_INGRED_UNIT]\n",
       "Index: []"
      ]
     },
     "metadata": {},
     "output_type": "display_data"
    }
   ],
   "source": [
    "# fix\n",
    "dfProd.loc[90536,'SUBSTANCENAME'] = 'GLYCERIN; HYDROLYZED SOY PROTEIN (ENZYMATIC 2000 MW)'\n",
    "# recheck\n",
    "checkSubstance(dfProd)"
   ]
  },
  {
   "attachments": {},
   "cell_type": "markdown",
   "id": "eaf2a779",
   "metadata": {},
   "source": [
    "* ##### DEASCHEDULE & NDC_EXCLUDE_FLAG"
   ]
  },
  {
   "cell_type": "code",
   "execution_count": 476,
   "id": "0927f477",
   "metadata": {},
   "outputs": [
    {
     "data": {
      "text/plain": [
       "array([nan, 'CV', 'CIV', 'CIII', 'CII'], dtype=object)"
      ]
     },
     "execution_count": 476,
     "metadata": {},
     "output_type": "execute_result"
    }
   ],
   "source": [
    "# check dea schedule\n",
    "dfProd.loc[:,'DEASCHEDULE'].unique()"
   ]
  },
  {
   "attachments": {},
   "cell_type": "markdown",
   "id": "dc136cc6",
   "metadata": {},
   "source": [
    "La colonne contient aucune valeur aberrante."
   ]
  },
  {
   "cell_type": "code",
   "execution_count": 477,
   "id": "ddb6b35b",
   "metadata": {},
   "outputs": [
    {
     "data": {
      "text/plain": [
       "array(['N'], dtype=object)"
      ]
     },
     "execution_count": 477,
     "metadata": {},
     "output_type": "execute_result"
    }
   ],
   "source": [
    "# check ndc flag\n",
    "dfProd.loc[:,'NDC_EXCLUDE_FLAG'].unique()"
   ]
  },
  {
   "attachments": {},
   "cell_type": "markdown",
   "id": "beb2c71d",
   "metadata": {},
   "source": [
    "La colonne ne contient qu'une valeur qu'est ``N``, ce qui était attendu.\n",
    "\n",
    "#### Table paquet\n",
    "\n",
    "* ##### PRODUCTID & PRODUCTNDC"
   ]
  },
  {
   "cell_type": "code",
   "execution_count": 478,
   "id": "3e190b57",
   "metadata": {},
   "outputs": [
    {
     "name": "stdout",
     "output_type": "stream",
     "text": [
      "Number of incoherences dropped: 519\n"
     ]
    }
   ],
   "source": [
    "# fix the inter-incoherence between the productID and the productNDC    \n",
    "fixInterIncoherence(dfPack, 'PRODUCTID', 'PRODUCTNDC')"
   ]
  },
  {
   "attachments": {},
   "cell_type": "markdown",
   "id": "eb1e59db",
   "metadata": {},
   "source": [
    "On voit qu'il y a 519 lignes qui ne respectent pas la règle de cohérence entre les colonnes ``PRODUCTID`` et ``PRODUCTNDC``.\n",
    "\n",
    "* ##### NDCPACKAGECODE"
   ]
  },
  {
   "cell_type": "code",
   "execution_count": 479,
   "id": "5777f812",
   "metadata": {},
   "outputs": [
    {
     "name": "stdout",
     "output_type": "stream",
     "text": [
      "Number of incoherences dropped: 155\n"
     ]
    }
   ],
   "source": [
    "# fix the inter-incoherence between the ndc package code and the product NDC\n",
    "fixInterIncoherence(dfPack, 'NDCPACKAGECODE', 'PRODUCTNDC')"
   ]
  },
  {
   "attachments": {},
   "cell_type": "markdown",
   "id": "09a4cb2e",
   "metadata": {},
   "source": [
    "On voit qu'il y a 155 lignes qui ne respectent pas la règle de cohérence entre les colonnes ``PRODUCTNDC`` et ``NDCPACKAGECODE``.\n",
    "\n",
    "* ##### PACKAGEDESCRIPTION"
   ]
  },
  {
   "cell_type": "code",
   "execution_count": 480,
   "id": "ecd1a41c",
   "metadata": {},
   "outputs": [
    {
     "name": "stdout",
     "output_type": "stream",
     "text": [
      "Number of incoherences dropped: 0\n"
     ]
    }
   ],
   "source": [
    "# fix the inter-incoherence between the package description and the product NDC\n",
    "fixInterIncoherence(dfPack, 'PACKAGEDESCRIPTION', 'NDCPACKAGECODE')"
   ]
  },
  {
   "attachments": {},
   "cell_type": "markdown",
   "id": "980022c3",
   "metadata": {},
   "source": [
    "On voit qu'il y a 0 ligne qui ne respectent pas la règle de cohérence entre les colonnes ``PACKAGEDESCRIPTION`` et ``NDCPACKAGECODE``.\n",
    "\n",
    "* ##### STARTMARKETINGDATE & ENDMARKETINGDATE"
   ]
  },
  {
   "cell_type": "code",
   "execution_count": 481,
   "id": "e2da8a87",
   "metadata": {},
   "outputs": [
    {
     "name": "stdout",
     "output_type": "stream",
     "text": [
      "Number of incoherences dropped: 0\n"
     ]
    }
   ],
   "source": [
    "# convert into dates\n",
    "convertDate(dfPack, 'STARTMARKETINGDATE')\n",
    "convertDate(dfPack, 'ENDMARKETINGDATE')\n",
    "\n",
    "# check if start < end\n",
    "compareDate(dfProd, 'ENDMARKETINGDATE', 'STARTMARKETINGDATE')"
   ]
  },
  {
   "attachments": {},
   "cell_type": "markdown",
   "id": "f29fa8d3",
   "metadata": {},
   "source": [
    "Il n'y a aucun problème d'incohérence inter-attributs. Il faut maintenant vérifier si nous n'avons pas des dates aberrantes :"
   ]
  },
  {
   "cell_type": "code",
   "execution_count": 482,
   "id": "64fd227b",
   "metadata": {},
   "outputs": [
    {
     "name": "stdout",
     "output_type": "stream",
     "text": [
      "Column : STARTMARKETINGDATE, Max date: 1900-01-01 00:00:00, min date: 2020-02-14 00:00:00\n",
      "Column : ENDMARKETINGDATE, Max date: 2020-02-15 00:00:00, min date: 2039-08-31 00:00:00\n"
     ]
    }
   ],
   "source": [
    "printMinMaxDate(dfPack, 'STARTMARKETINGDATE')\n",
    "printMinMaxDate(dfPack, 'ENDMARKETINGDATE')"
   ]
  },
  {
   "attachments": {},
   "cell_type": "markdown",
   "id": "9d90796f",
   "metadata": {},
   "source": [
    "On retombe sur le même problème que pour la table produit, il suffit juste de le fixer aussi de la même manière :"
   ]
  },
  {
   "cell_type": "code",
   "execution_count": 483,
   "id": "bd63fd3c",
   "metadata": {},
   "outputs": [
    {
     "name": "stdout",
     "output_type": "stream",
     "text": [
      "Column : STARTMARKETINGDATE, Max date: 1900-01-07 00:00:00, min date: 2020-02-14 00:00:00\n"
     ]
    }
   ],
   "source": [
    "# get mask\n",
    "mask = dfPack['STARTMARKETINGDATE'] == dfPack['STARTMARKETINGDATE'].min()\n",
    "# drop rows\n",
    "dfPack.drop(index=dfPack[mask].index, inplace=True)\n",
    "# recheck\n",
    "printMinMaxDate(dfPack, 'STARTMARKETINGDATE')"
   ]
  },
  {
   "cell_type": "code",
   "execution_count": 484,
   "id": "c02148eb",
   "metadata": {},
   "outputs": [
    {
     "name": "stdout",
     "output_type": "stream",
     "text": [
      "Column : STARTMARKETINGDATE, Max date: 1919-01-01 00:00:00, min date: 2020-02-14 00:00:00\n"
     ]
    }
   ],
   "source": [
    "# get mask\n",
    "mask = dfProd['STARTMARKETINGDATE'] == dfProd['STARTMARKETINGDATE'].min()\n",
    "# drop rows\n",
    "dfProd.drop(index=dfProd[mask].index, inplace=True)\n",
    "# recheck\n",
    "printMinMaxDate(dfProd, 'STARTMARKETINGDATE')"
   ]
  },
  {
   "attachments": {},
   "cell_type": "markdown",
   "id": "40215bd6",
   "metadata": {},
   "source": [
    "* ##### NDC_EXCLUDE_FLAG & SAMPLE_PACKAGE"
   ]
  },
  {
   "cell_type": "code",
   "execution_count": 485,
   "id": "d67e6150",
   "metadata": {},
   "outputs": [
    {
     "data": {
      "text/plain": [
       "array(['N'], dtype=object)"
      ]
     },
     "execution_count": 485,
     "metadata": {},
     "output_type": "execute_result"
    }
   ],
   "source": [
    "# check ndc flag\n",
    "dfPack.loc[:,'NDC_EXCLUDE_FLAG'].unique()"
   ]
  },
  {
   "cell_type": "code",
   "execution_count": 486,
   "id": "27a06656",
   "metadata": {},
   "outputs": [
    {
     "data": {
      "text/plain": [
       "array(['N', 'Y'], dtype=object)"
      ]
     },
     "execution_count": 486,
     "metadata": {},
     "output_type": "execute_result"
    }
   ],
   "source": [
    "# check sample package\n",
    "dfPack.loc[:,'SAMPLE_PACKAGE'].unique()"
   ]
  },
  {
   "attachments": {},
   "cell_type": "markdown",
   "id": "c5f93645",
   "metadata": {},
   "source": [
    "Les deux colonnes contiennent uniquement des bonnes données, il n'y a rien à modifier donc.\n",
    "\n",
    "### Question 4\n",
    "\n",
    "Comme nous avons pu le voir auparavant, les deux tableaux possèdent des valeurs NULL. Cependant, l'importance accordée à la présence d'une valeur manquante dans une colonne diffère de l'une de l'autre. En effet, cela va dépendre de la quantité de valeurs NULL et si la valeur NULL encode une information. En effet :\n",
    "\n",
    "- ``PROPRIETARYNAME`` : Cette colonne contient contient un faible niveau de valeur NULL (0.006435 %), on peut donc drop les valeurs manquantes.\n",
    "\n",
    "- ``PROPRIETARYNAMESUFFIX`` : Cette colonne peut contenir des valeurs NULL et une valeur manquante encode une optionalité d'où un niveau élevé de valeur NULL (89 %). On peut donc l'ignorer. \n",
    "\n",
    "- ``NONPROPRIETARYNAME`` : Cette colonne contient contient un faible niveau de valeur NULL (0.004290 %), on peut donc drop les valeurs manquantes.\n",
    "\n",
    "- ``ROUTENAME`` : Cette colonne contient contient un faible niveau de valeur NULL (2.072117 %), on peut donc drop les valeurs manquantes.\n",
    "\n",
    "- ``ENDMARKETINGDATE`` : Cette colonne peut contenir des valeurs NULL et une valeur manquante encode de l'information (i.e pas de date de fin) d'où un niveau élevé de valeur NULL (95 %). On peut donc l'ignorer.\n",
    "\n",
    "- ``APPLICATIONNUMBER`` : Cette colonne peut contenir des valeurs NULL et une valeur manquante encode de l'information (i.e le produit n'est pas approuvé par la FDA). On peut donc remplacer les valeurs NULL par 'Unapproved drugs'.\n",
    "\n",
    "- ``SUBSTANCENAME``, ``ACTIVE_NUMERATOR_STRENGTH``, ``ACTIVE_INGRED_UNIT`` : Ces 3 attributs sont liés et contiennent un faible niveau identique de valeurs NULL (2.476458 %). On peut donc drop les valeurs manquantes.\n",
    "\n",
    "- ``PHARM_CLASSES`` : Voir les prochaines questions (donc à ignorer).\n",
    "\n",
    "- ``DEASCHEDULE`` : Cette colonne peut contenir des valeurs NULL et une valeur manquante encode de l'information (i.e le pouvoir de dépendance du produit est inexistant). On peut donc remplacer les valeurs NULL par 'C0'.  \n",
    "\n",
    "- ``LISTING_RECORD_CERTIFIED_THROUGH`` : Cette colonne contient contient un faible niveau de valeur NULL (4.638667 %), on peut donc drop les valeurs manquantes.\n",
    "\n",
    "Finalement, ici, nous avons uniquement pris en compte les colonnes pour lesquels nous n'avons aucun moyen de récupérer les valeurs NULL d'où la mise en place d'une suppression."
   ]
  },
  {
   "cell_type": "code",
   "execution_count": 487,
   "id": "4adda70a",
   "metadata": {},
   "outputs": [],
   "source": [
    "# drop NaN\n",
    "dfProd.dropna(subset=['PROPRIETARYNAME','NONPROPRIETARYNAME', \n",
    "                      'ROUTENAME', 'SUBSTANCENAME','ACTIVE_NUMERATOR_STRENGTH',\n",
    "                      'ACTIVE_INGRED_UNIT','LISTING_RECORD_CERTIFIED_THROUGH'], inplace=True)\n",
    "\n",
    "# replace NaN\n",
    "dfProd['APPLICATIONNUMBER'].fillna('Unapproved drugs', inplace=True)\n",
    "dfProd['DEASCHEDULE'].fillna('C0', inplace=True)"
   ]
  },
  {
   "attachments": {},
   "cell_type": "markdown",
   "id": "70d56ab5",
   "metadata": {},
   "source": [
    "Dans cette section, nous allons essayer de mettre en place un moyen de récupérer des valeurs manquantes dans : \n",
    "\n",
    "- Table produit : ``PRODUCTID``\n",
    "- Table packet : ``PRODUCTNDC`` et ``NDCPACKAGECODE``\n",
    "\n",
    "L'idée est d'utiliser la colonne ``PACKAGEDESCRIPTION`` (qui ne possède aucune valeur manquante) pour récupérer toutes les valeurs manquantes de la colonne ``NDCPACKAGECODE``. Par la suite, on utilise la même astuce pour récupérer ceux de la colonne ``PRODUCTNDC`` à l'aide de ``NDCPACKAGECODE``.\n",
    "\n",
    "Maintenant, pour obtenir les valeurs manquantes de ``PRODUCTID``, on va comparer la colonne ``PRODUCTNDC`` de la table produit (qui ne possède pas de valeurs NULL) à celle de la table packet : de cette manière, on peut recopier les valeurs qui matchent depuis la colonne ``PRODUCTID`` de la table packet vers celle des produits."
   ]
  },
  {
   "cell_type": "code",
   "execution_count": 488,
   "id": "e4ebb250",
   "metadata": {},
   "outputs": [
    {
     "name": "stdout",
     "output_type": "stream",
     "text": [
      "Percentage of missing values for each columns:\n",
      "PRODUCTID              0.000000\n",
      "PRODUCTNDC             0.000000\n",
      "NDCPACKAGECODE         0.000000\n",
      "PACKAGEDESCRIPTION     0.000000\n",
      "STARTMARKETINGDATE     0.140311\n",
      "ENDMARKETINGDATE      96.364046\n",
      "NDC_EXCLUDE_FLAG       0.000000\n",
      "SAMPLE_PACKAGE         0.000000\n",
      "dtype: float64\n"
     ]
    }
   ],
   "source": [
    "# get idx of nan values in ndc package code\n",
    "idx = dfPack.loc[pd.isna(dfPack[\"NDCPACKAGECODE\"]), :].index\n",
    "\n",
    "# list to cache result\n",
    "NDCPackCode = list()\n",
    "NDCProdCode = list()\n",
    "\n",
    "# for each nan value in ndc package code \n",
    "for i in idx:\n",
    "    # use regex to get the ndc package code from the package description\n",
    "    code = re.findall(r\"\\(([^)]+)\\)\", dfPack[\"PACKAGEDESCRIPTION\"][i])[0]\n",
    "    # save in ndc package code column\n",
    "    NDCPackCode.append(code)\n",
    "\n",
    "# replace\n",
    "dfPack.loc[idx, \"NDCPACKAGECODE\"] = NDCPackCode\n",
    "\n",
    "# get split\n",
    "split = dfPack.loc[:, \"NDCPACKAGECODE\"].str.split('-', n = 3, expand=True)\n",
    "# replace\n",
    "dfPack[\"PRODUCTNDC\"] = split[0] + '-' + split[1]\n",
    "\n",
    "# check\n",
    "print(\"Percentage of missing values for each columns:\")\n",
    "print(dfPack.isnull().sum() * 100 / len(dfPack))"
   ]
  },
  {
   "attachments": {},
   "cell_type": "markdown",
   "id": "7956d900",
   "metadata": {},
   "source": [
    "Nous n'avons plus de valeurs NULL, vérifions tout de même la cohérence de cette stratégie :"
   ]
  },
  {
   "cell_type": "code",
   "execution_count": 489,
   "id": "043b1323",
   "metadata": {},
   "outputs": [
    {
     "name": "stdout",
     "output_type": "stream",
     "text": [
      "Number of incoherences dropped: 0\n",
      "Number of incoherences dropped: 0\n",
      "Number of incoherences dropped: 0\n"
     ]
    }
   ],
   "source": [
    "# fix the inter-incoherence between the productID and the productNDC    \n",
    "fixInterIncoherence(dfPack, 'PRODUCTID', 'PRODUCTNDC')\n",
    "\n",
    "# fix the inter-incoherence between the ndc package code and the product NDC\n",
    "fixInterIncoherence(dfPack, 'NDCPACKAGECODE', 'PRODUCTNDC')\n",
    "\n",
    "# fix the inter-incoherence between the package description and the product NDC\n",
    "fixInterIncoherence(dfPack, 'PACKAGEDESCRIPTION', 'NDCPACKAGECODE')"
   ]
  },
  {
   "attachments": {},
   "cell_type": "markdown",
   "id": "5da465b0",
   "metadata": {},
   "source": [
    "Aucune incohérence n'a été trouvée, on peut donc maintenant passer à la table produit :"
   ]
  },
  {
   "cell_type": "code",
   "execution_count": 490,
   "id": "82466b93",
   "metadata": {},
   "outputs": [
    {
     "name": "stdout",
     "output_type": "stream",
     "text": [
      "Percentage of missing values for each columns:\n",
      "PRODUCTID                             1.787684\n",
      "PRODUCTNDC                            0.000000\n",
      "PRODUCTTYPENAME                       0.000000\n",
      "PROPRIETARYNAME                       0.000000\n",
      "PROPRIETARYNAMESUFFIX                89.705729\n",
      "NONPROPRIETARYNAME                    0.000000\n",
      "DOSAGEFORMNAME                        0.000000\n",
      "ROUTENAME                             0.000000\n",
      "STARTMARKETINGDATE                    0.000000\n",
      "ENDMARKETINGDATE                    100.000000\n",
      "MARKETINGCATEGORYNAME                 0.000000\n",
      "APPLICATIONNUMBER                     0.000000\n",
      "LABELERNAME                           0.000000\n",
      "SUBSTANCENAME                         0.000000\n",
      "ACTIVE_NUMERATOR_STRENGTH             0.000000\n",
      "ACTIVE_INGRED_UNIT                    0.000000\n",
      "PHARM_CLASSES                        52.585757\n",
      "DEASCHEDULE                           0.000000\n",
      "NDC_EXCLUDE_FLAG                      0.000000\n",
      "LISTING_RECORD_CERTIFIED_THROUGH      0.000000\n",
      "dtype: float64\n"
     ]
    }
   ],
   "source": [
    "# get idx of nan values in product id\n",
    "idx = dfProd.loc[pd.isna(dfProd[\"PRODUCTID\"]), :].index\n",
    "\n",
    "# get the corresponding ndc product code\n",
    "NDCProdCode = dfProd.loc[idx, \"PRODUCTNDC\"]\n",
    "\n",
    "# get the corresponding product id from the package table\n",
    "prodID = dfPack.query('PRODUCTNDC in @NDCProdCode')['PRODUCTID'].drop_duplicates()\n",
    "\n",
    "# replace\n",
    "dfProd.loc[idx,'PRODUCTID'] = prodID.values\n",
    "\n",
    "# check\n",
    "print(\"Percentage of missing values for each columns:\")\n",
    "print(dfProd.isnull().sum() * 100 / len(dfProd))"
   ]
  },
  {
   "cell_type": "code",
   "execution_count": 491,
   "id": "49e835e4",
   "metadata": {},
   "outputs": [
    {
     "name": "stdout",
     "output_type": "stream",
     "text": [
      "Number of incoherences dropped: 0\n"
     ]
    }
   ],
   "source": [
    "# fix the inter-incoherence between the productID and the productNDC    \n",
    "fixInterIncoherence(dfProd, 'PRODUCTID', 'PRODUCTNDC')"
   ]
  },
  {
   "attachments": {},
   "cell_type": "markdown",
   "id": "f90e458d",
   "metadata": {},
   "source": [
    "Nous n'avons plus de valeurs NULL et la cohérence est toujours respectée. Par ailleurs, on remarque que la colonne ``ENDMARKETINGDATE`` contient que des valeurs NULL suite au nettoyage : on peut donc la supprimer au niveau des deux tableaux car elle n'apporte que très peu d'information."
   ]
  },
  {
   "cell_type": "code",
   "execution_count": 492,
   "id": "f91c9e7e",
   "metadata": {},
   "outputs": [],
   "source": [
    "# remove ENDMARKETINGDATE column\n",
    "dfProd.drop('ENDMARKETINGDATE', axis=1, inplace=True)\n",
    "dfPack.drop('ENDMARKETINGDATE', axis=1, inplace=True)"
   ]
  },
  {
   "attachments": {},
   "cell_type": "markdown",
   "id": "9474ce60",
   "metadata": {},
   "source": [
    "### Question 5\n",
    "\n",
    "Pour supprimer les doublons, nous allons partir sur le fait que deux objets sont parfaitement identiques si et seulement si ils ont les mêmes attributs à l'exception de ``PRODUCTID``."
   ]
  },
  {
   "cell_type": "code",
   "execution_count": 512,
   "id": "cc7ae4bb",
   "metadata": {},
   "outputs": [
    {
     "name": "stdout",
     "output_type": "stream",
     "text": [
      "Product table:\n",
      "Number of duplicated rows: 592\n",
      "Package table:\n",
      "Number of duplicated rows: 1\n"
     ]
    }
   ],
   "source": [
    "# delete duplicates\n",
    "def deleteDuplicates(df):\n",
    "    # get columns except the product id\n",
    "    col = df.columns[1:len(df.columns)]\n",
    "    # print the number of duplicated rows \n",
    "    print('Number of duplicated rows:', df.duplicated(col).sum())\n",
    "    # delete duplicates\n",
    "    df.drop_duplicates(subset=col, inplace=True)\n",
    "\n",
    "# product df\n",
    "print(\"Product table:\")\n",
    "deleteDuplicates(dfProd)\n",
    "\n",
    "# package df\n",
    "print(\"Package table:\")\n",
    "deleteDuplicates(dfPack)"
   ]
  },
  {
   "attachments": {},
   "cell_type": "markdown",
   "id": "445eae16",
   "metadata": {},
   "source": [
    "Regardons maintenant le taux de lignes supprimées suite à ce nettoyage :"
   ]
  },
  {
   "cell_type": "code",
   "execution_count": 523,
   "id": "addc8c51",
   "metadata": {},
   "outputs": [
    {
     "name": "stdout",
     "output_type": "stream",
     "text": [
      "Percentage of deleted rows (product table): 8.242347540702289\n",
      "Percentage of deleted rows (product table): 0.40313536952158585\n"
     ]
    }
   ],
   "source": [
    "print('Percentage of deleted rows (product table):', (93238 - dfProd.shape[0]) / 93238 * 100)\n",
    "print('Percentage of deleted rows (product table):', (173887 - dfPack.shape[0]) / 173887 * 100)"
   ]
  },
  {
   "attachments": {},
   "cell_type": "markdown",
   "id": "8f0cbefc",
   "metadata": {},
   "source": [
    "Finalement, nous n'avons perdu que très peu de données suite à toutes ces questions de nettoyage.\n",
    "\n",
    "### Question 6"
   ]
  },
  {
   "cell_type": "code",
   "execution_count": 525,
   "id": "c410e702",
   "metadata": {},
   "outputs": [],
   "source": [
    "# TODO"
   ]
  },
  {
   "cell_type": "code",
   "execution_count": null,
   "id": "0702597b",
   "metadata": {},
   "outputs": [],
   "source": []
  }
 ],
 "metadata": {
  "kernelspec": {
   "display_name": "base",
   "language": "python",
   "name": "python3"
  },
  "language_info": {
   "codemirror_mode": {
    "name": "ipython",
    "version": 3
   },
   "file_extension": ".py",
   "mimetype": "text/x-python",
   "name": "python",
   "nbconvert_exporter": "python",
   "pygments_lexer": "ipython3",
   "version": "3.10.9"
  },
  "vscode": {
   "interpreter": {
    "hash": "6db655daa3b5fc1798fede1c32d7d7dce11162e7b3e78b8ecdc1c1b040d2e6b5"
   }
  }
 },
 "nbformat": 4,
 "nbformat_minor": 5
}
