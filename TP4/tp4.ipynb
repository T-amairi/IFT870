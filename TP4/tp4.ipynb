{
 "cells": [
  {
   "attachments": {},
   "cell_type": "markdown",
   "metadata": {},
   "source": [
    "Victor CHAU & Tahar AMAIRI\n",
    "# IFT 870 - Forage de données\n",
    "## TP4 : Fonctions descriptives\n",
    "\n",
    "### Sommaire\n",
    "\n",
    "# TODO\n",
    "\n",
    "## Importation des données"
   ]
  },
  {
   "cell_type": "code",
   "execution_count": 37,
   "metadata": {},
   "outputs": [
    {
     "data": {
      "text/html": [
       "<div>\n",
       "<style scoped>\n",
       "    .dataframe tbody tr th:only-of-type {\n",
       "        vertical-align: middle;\n",
       "    }\n",
       "\n",
       "    .dataframe tbody tr th {\n",
       "        vertical-align: top;\n",
       "    }\n",
       "\n",
       "    .dataframe thead th {\n",
       "        text-align: right;\n",
       "    }\n",
       "</style>\n",
       "<table border=\"1\" class=\"dataframe\">\n",
       "  <thead>\n",
       "    <tr style=\"text-align: right;\">\n",
       "      <th></th>\n",
       "      <th>id</th>\n",
       "      <th>sequence</th>\n",
       "    </tr>\n",
       "  </thead>\n",
       "  <tbody>\n",
       "    <tr>\n",
       "      <th>0</th>\n",
       "      <td>U10409.1/2025-2178</td>\n",
       "      <td>AACUUUCAGCAACGGAUCUCUUGGUUCUCGCAUCGAUGAAGAACGC...</td>\n",
       "    </tr>\n",
       "    <tr>\n",
       "      <th>1</th>\n",
       "      <td>AF223066.1/5881-6030</td>\n",
       "      <td>GACUCUCGGCAACGGAUAUCUCGGCUCUCGCAUCGAUGAAGAACGU...</td>\n",
       "    </tr>\n",
       "    <tr>\n",
       "      <th>2</th>\n",
       "      <td>Y07976.1/124-271</td>\n",
       "      <td>CACUUUCAGCAACGGAUGUCUCGGUUCCCAUAACGAUGAAGAACGC...</td>\n",
       "    </tr>\n",
       "    <tr>\n",
       "      <th>3</th>\n",
       "      <td>X03680.1/3159-3308</td>\n",
       "      <td>UAGCUUCAGCGAUGGAUCGGUUGCAUCGAGUAUCGAUGAAGAACGC...</td>\n",
       "    </tr>\n",
       "    <tr>\n",
       "      <th>4</th>\n",
       "      <td>X90410.1/15-165</td>\n",
       "      <td>AACUUUCAGCAAUGGAUCUCUUGGCUCUUGCAUCGAUGAAGAACGC...</td>\n",
       "    </tr>\n",
       "  </tbody>\n",
       "</table>\n",
       "</div>"
      ],
      "text/plain": [
       "                     id                                           sequence\n",
       "0    U10409.1/2025-2178  AACUUUCAGCAACGGAUCUCUUGGUUCUCGCAUCGAUGAAGAACGC...\n",
       "1  AF223066.1/5881-6030  GACUCUCGGCAACGGAUAUCUCGGCUCUCGCAUCGAUGAAGAACGU...\n",
       "2      Y07976.1/124-271  CACUUUCAGCAACGGAUGUCUCGGUUCCCAUAACGAUGAAGAACGC...\n",
       "3    X03680.1/3159-3308  UAGCUUCAGCGAUGGAUCGGUUGCAUCGAGUAUCGAUGAAGAACGC...\n",
       "4       X90410.1/15-165  AACUUUCAGCAAUGGAUCUCUUGGCUCUUGCAUCGAUGAAGAACGC..."
      ]
     },
     "execution_count": 37,
     "metadata": {},
     "output_type": "execute_result"
    }
   ],
   "source": [
    "# import libs\n",
    "from matplotlib import pyplot as plt\n",
    "from IPython.display import display\n",
    "from Bio import pairwise2\n",
    "import seaborn as sns\n",
    "import pandas as pd\n",
    "import numpy as np\n",
    "\n",
    "# read CSV\n",
    "df = pd.read_csv('TP4_data.csv')\n",
    "\n",
    "# print the df\n",
    "df.head()"
   ]
  },
  {
   "attachments": {},
   "cell_type": "markdown",
   "metadata": {},
   "source": [
    "## 1. Segmentation des données suivant la longueur des séquences\n",
    "### a) Histogramme"
   ]
  },
  {
   "cell_type": "code",
   "execution_count": 38,
   "metadata": {},
   "outputs": [
    {
     "data": {
      "image/png": "[encoded data removed]",
      "text/plain": [
       "<Figure size 640x480 with 1 Axes>"
      ]
     },
     "metadata": {},
     "output_type": "display_data"
    }
   ],
   "source": [
    "# plot histogram\n",
    "df['sequence'].str.len().hist();"
   ]
  },
  {
   "attachments": {},
   "cell_type": "markdown",
   "metadata": {},
   "source": [
    "### b) Partitionnement \n",
    "TODO"
   ]
  },
  {
   "cell_type": "code",
   "execution_count": 39,
   "metadata": {},
   "outputs": [],
   "source": [
    "# first group\n",
    "mask = (df['sequence'].str.len() < 100)\n",
    "df1 = df.loc[mask,:]\n",
    "\n",
    "# second group\n",
    "mask = (df['sequence'].str.len() >= 100) & (df['sequence'].str.len() < 150)\n",
    "df2 = df.loc[mask,:]\n",
    "\n",
    "# third group\n",
    "mask = (df['sequence'].str.len() >= 150) & (df['sequence'].str.len() < 200)\n",
    "df3 = df.loc[mask,:]\n",
    "\n",
    "# fourth group\n",
    "mask = (df['sequence'].str.len() >= 200)\n",
    "df4 = df.loc[mask,:]"
   ]
  },
  {
   "attachments": {},
   "cell_type": "markdown",
   "metadata": {},
   "source": [
    "## 2. Partitionnement à partir d’une représentation vectorielle des données\n",
    "### a) Représentation vectorielle"
   ]
  },
  {
   "cell_type": "code",
   "execution_count": 40,
   "metadata": {},
   "outputs": [
    {
     "data": {
      "text/html": [
       "<div>\n",
       "<style scoped>\n",
       "    .dataframe tbody tr th:only-of-type {\n",
       "        vertical-align: middle;\n",
       "    }\n",
       "\n",
       "    .dataframe tbody tr th {\n",
       "        vertical-align: top;\n",
       "    }\n",
       "\n",
       "    .dataframe thead th {\n",
       "        text-align: right;\n",
       "    }\n",
       "</style>\n",
       "<table border=\"1\" class=\"dataframe\">\n",
       "  <thead>\n",
       "    <tr style=\"text-align: right;\">\n",
       "      <th></th>\n",
       "      <th>2-mer</th>\n",
       "      <th>3-mer</th>\n",
       "      <th>4-mer</th>\n",
       "    </tr>\n",
       "  </thead>\n",
       "  <tbody>\n",
       "    <tr>\n",
       "      <th>0</th>\n",
       "      <td>[GU, UG, GU, UG, GU, UU, UU, UA, AU, UG, GA, A...</td>\n",
       "      <td>[GUG, UGU, GUG, UGU, GUU, UUU, UUA, UAU, AUG, ...</td>\n",
       "      <td>[GUGU, UGUG, GUGU, UGUU, GUUU, UUUA, UUAU, UAU...</td>\n",
       "    </tr>\n",
       "    <tr>\n",
       "      <th>1</th>\n",
       "      <td>[CU, UC, CU, UG, GU, UU, UA, AA, AU, UG, GA, A...</td>\n",
       "      <td>[CUC, UCU, CUG, UGU, GUU, UUA, UAA, AAU, AUG, ...</td>\n",
       "      <td>[CUCU, UCUG, CUGU, UGUU, GUUA, UUAA, UAAU, AAU...</td>\n",
       "    </tr>\n",
       "    <tr>\n",
       "      <th>2</th>\n",
       "      <td>[CC, CG, GG, GC, CA, AC, CU, UC, CA, AU, UG, G...</td>\n",
       "      <td>[CCG, CGG, GGC, GCA, CAC, ACU, CUC, UCA, CAU, ...</td>\n",
       "      <td>[CCGG, CGGC, GGCA, GCAC, CACU, ACUC, CUCA, UCA...</td>\n",
       "    </tr>\n",
       "    <tr>\n",
       "      <th>3</th>\n",
       "      <td>[GU, UU, UA, AC, CA, AU, UU, UG, GA, AU, UG, G...</td>\n",
       "      <td>[GUU, UUA, UAC, ACA, CAU, AUU, UUG, UGA, GAU, ...</td>\n",
       "      <td>[GUUA, UUAC, UACA, ACAU, CAUU, AUUG, UUGA, UGA...</td>\n",
       "    </tr>\n",
       "    <tr>\n",
       "      <th>4</th>\n",
       "      <td>[GC, CC, CA, AG, GA, AU, UG, GA, AU, UG, GA, A...</td>\n",
       "      <td>[GCC, CCA, CAG, AGA, GAU, AUG, UGA, GAU, AUG, ...</td>\n",
       "      <td>[GCCA, CCAG, CAGA, AGAU, GAUG, AUGA, UGAU, GAU...</td>\n",
       "    </tr>\n",
       "  </tbody>\n",
       "</table>\n",
       "</div>"
      ],
      "text/plain": [
       "                                               2-mer  \\\n",
       "0  [GU, UG, GU, UG, GU, UU, UU, UA, AU, UG, GA, A...   \n",
       "1  [CU, UC, CU, UG, GU, UU, UA, AA, AU, UG, GA, A...   \n",
       "2  [CC, CG, GG, GC, CA, AC, CU, UC, CA, AU, UG, G...   \n",
       "3  [GU, UU, UA, AC, CA, AU, UU, UG, GA, AU, UG, G...   \n",
       "4  [GC, CC, CA, AG, GA, AU, UG, GA, AU, UG, GA, A...   \n",
       "\n",
       "                                               3-mer  \\\n",
       "0  [GUG, UGU, GUG, UGU, GUU, UUU, UUA, UAU, AUG, ...   \n",
       "1  [CUC, UCU, CUG, UGU, GUU, UUA, UAA, AAU, AUG, ...   \n",
       "2  [CCG, CGG, GGC, GCA, CAC, ACU, CUC, UCA, CAU, ...   \n",
       "3  [GUU, UUA, UAC, ACA, CAU, AUU, UUG, UGA, GAU, ...   \n",
       "4  [GCC, CCA, CAG, AGA, GAU, AUG, UGA, GAU, AUG, ...   \n",
       "\n",
       "                                               4-mer  \n",
       "0  [GUGU, UGUG, GUGU, UGUU, GUUU, UUUA, UUAU, UAU...  \n",
       "1  [CUCU, UCUG, CUGU, UGUU, GUUA, UUAA, UAAU, AAU...  \n",
       "2  [CCGG, CGGC, GGCA, GCAC, CACU, ACUC, CUCA, UCA...  \n",
       "3  [GUUA, UUAC, UACA, ACAU, CAUU, AUUG, UUGA, UGA...  \n",
       "4  [GCCA, CCAG, CAGA, AGAU, GAUG, AUGA, UGAU, GAU...  "
      ]
     },
     "execution_count": 40,
     "metadata": {},
     "output_type": "execute_result"
    }
   ],
   "source": [
    "# transform a sequence into a k-mer vectorial representation using a list of k-mer\n",
    "def SeqToKMerVec(seq, k_mer):\n",
    "    # data frame containing the results\n",
    "    df = pd.DataFrame(0, index=np.arange(len(seq)), columns=[\"{}-mer\".format(k) for k in k_mer])\n",
    "\n",
    "    # iterate over each k-mer value \n",
    "    for k in k_mer:\n",
    "        # transform into a k-mer vectorial representation\n",
    "        df['{}-mer'.format(k)] = seq.apply(lambda s: [s[i:i+k] for i in range(len(s)-k+1)]).values\n",
    "\n",
    "    # return the df\n",
    "    return df\n",
    "\n",
    "# first group\n",
    "dfKMerVec1 = SeqToKMerVec(df1['sequence'], [2,3,4])\n",
    "\n",
    "# print the result\n",
    "dfKMerVec1.head()"
   ]
  },
  {
   "cell_type": "code",
   "execution_count": 41,
   "metadata": {},
   "outputs": [],
   "source": [
    "# do the same for the other groups\n",
    "dfKMerVec2 = SeqToKMerVec(df2['sequence'], [2,3,4])\n",
    "dfKMerVec3 = SeqToKMerVec(df3['sequence'], [2,3,4])\n",
    "dfKMerVec4 = SeqToKMerVec(df4['sequence'], [2,3,4])"
   ]
  },
  {
   "attachments": {},
   "cell_type": "markdown",
   "metadata": {},
   "source": [
    "### b) Suppression des motifs non-fréquents\n",
    "TODO"
   ]
  },
  {
   "cell_type": "code",
   "execution_count": 42,
   "metadata": {},
   "outputs": [],
   "source": [
    "# TODO"
   ]
  },
  {
   "attachments": {},
   "cell_type": "markdown",
   "metadata": {},
   "source": [
    "### c) K-Means"
   ]
  },
  {
   "cell_type": "code",
   "execution_count": 43,
   "metadata": {},
   "outputs": [],
   "source": [
    "# TODO"
   ]
  },
  {
   "attachments": {},
   "cell_type": "markdown",
   "metadata": {},
   "source": [
    "## 3. Partitionnement à partir d’une matrice de distances\n",
    "### a) Matrice de distance"
   ]
  },
  {
   "cell_type": "code",
   "execution_count": 56,
   "metadata": {},
   "outputs": [],
   "source": [
    "def dist(S1, S2):\n",
    "    alignment = pairwise2.align.globalxx(S1,S2)\n",
    "    return alignment[0][4] - alignment[0][2]\n",
    "\n",
    "def getDistMatrix(seq):\n",
    "    # data frame containing the results\n",
    "    df = pd.DataFrame(0.0, index=np.arange(len(seq)), columns=np.arange(len(seq)))\n",
    "\n",
    "    # iterate over each sequence\n",
    "    for i, S1 in enumerate(seq):\n",
    "        df.iloc[i,:] = seq.apply(lambda S2: dist(S1,S2)).values\n",
    "  \n",
    "    # return the df\n",
    "    return df"
   ]
  },
  {
   "cell_type": "code",
   "execution_count": 61,
   "metadata": {},
   "outputs": [],
   "source": [
    "X = df1[\"sequence\"].values.reshape(-1, 1)"
   ]
  },
  {
   "cell_type": "code",
   "execution_count": 63,
   "metadata": {},
   "outputs": [
    {
     "data": {
      "text/plain": [
       "array([52., 55., 39., ..., 10., 20., 20.])"
      ]
     },
     "execution_count": 63,
     "metadata": {},
     "output_type": "execute_result"
    }
   ],
   "source": [
    "from scipy.spatial.distance import pdist\n",
    "\n",
    "pdist(X, dist)"
   ]
  },
  {
   "cell_type": "code",
   "execution_count": 64,
   "metadata": {},
   "outputs": [],
   "source": [
    "getDistMatrix(df1['sequence'])"
   ]
  },
  {
   "cell_type": "code",
   "execution_count": null,
   "metadata": {},
   "outputs": [],
   "source": []
  }
 ],
 "metadata": {
  "kernelspec": {
   "display_name": "base",
   "language": "python",
   "name": "python3"
  },
  "language_info": {
   "codemirror_mode": {
    "name": "ipython",
    "version": 3
   },
   "file_extension": ".py",
   "mimetype": "text/x-python",
   "name": "python",
   "nbconvert_exporter": "python",
   "pygments_lexer": "ipython3",
   "version": "3.10.10"
  },
  "orig_nbformat": 4
 },
 "nbformat": 4,
 "nbformat_minor": 2
}
