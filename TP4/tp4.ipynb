{
 "cells": [
  {
   "attachments": {},
   "cell_type": "markdown",
   "metadata": {},
   "source": [
    "Victor CHAU & Tahar AMAIRI\n",
    "# IFT 870 - Forage de données\n",
    "## TP4 : Fonctions descriptives\n",
    "\n",
    "### Sommaire\n",
    "\n",
    "# TODO\n",
    "\n",
    "## Importation des données"
   ]
  },
  {
   "cell_type": "code",
   "execution_count": 1,
   "metadata": {},
   "outputs": [
    {
     "data": {
      "text/html": [
       "<div>\n",
       "<style scoped>\n",
       "    .dataframe tbody tr th:only-of-type {\n",
       "        vertical-align: middle;\n",
       "    }\n",
       "\n",
       "    .dataframe tbody tr th {\n",
       "        vertical-align: top;\n",
       "    }\n",
       "\n",
       "    .dataframe thead th {\n",
       "        text-align: right;\n",
       "    }\n",
       "</style>\n",
       "<table border=\"1\" class=\"dataframe\">\n",
       "  <thead>\n",
       "    <tr style=\"text-align: right;\">\n",
       "      <th></th>\n",
       "      <th>id</th>\n",
       "      <th>sequence</th>\n",
       "    </tr>\n",
       "  </thead>\n",
       "  <tbody>\n",
       "    <tr>\n",
       "      <th>0</th>\n",
       "      <td>U10409.1/2025-2178</td>\n",
       "      <td>AACUUUCAGCAACGGAUCUCUUGGUUCUCGCAUCGAUGAAGAACGC...</td>\n",
       "    </tr>\n",
       "    <tr>\n",
       "      <th>1</th>\n",
       "      <td>AF223066.1/5881-6030</td>\n",
       "      <td>GACUCUCGGCAACGGAUAUCUCGGCUCUCGCAUCGAUGAAGAACGU...</td>\n",
       "    </tr>\n",
       "    <tr>\n",
       "      <th>2</th>\n",
       "      <td>Y07976.1/124-271</td>\n",
       "      <td>CACUUUCAGCAACGGAUGUCUCGGUUCCCAUAACGAUGAAGAACGC...</td>\n",
       "    </tr>\n",
       "    <tr>\n",
       "      <th>3</th>\n",
       "      <td>X03680.1/3159-3308</td>\n",
       "      <td>UAGCUUCAGCGAUGGAUCGGUUGCAUCGAGUAUCGAUGAAGAACGC...</td>\n",
       "    </tr>\n",
       "    <tr>\n",
       "      <th>4</th>\n",
       "      <td>X90410.1/15-165</td>\n",
       "      <td>AACUUUCAGCAAUGGAUCUCUUGGCUCUUGCAUCGAUGAAGAACGC...</td>\n",
       "    </tr>\n",
       "  </tbody>\n",
       "</table>\n",
       "</div>"
      ],
      "text/plain": [
       "                     id                                           sequence\n",
       "0    U10409.1/2025-2178  AACUUUCAGCAACGGAUCUCUUGGUUCUCGCAUCGAUGAAGAACGC...\n",
       "1  AF223066.1/5881-6030  GACUCUCGGCAACGGAUAUCUCGGCUCUCGCAUCGAUGAAGAACGU...\n",
       "2      Y07976.1/124-271  CACUUUCAGCAACGGAUGUCUCGGUUCCCAUAACGAUGAAGAACGC...\n",
       "3    X03680.1/3159-3308  UAGCUUCAGCGAUGGAUCGGUUGCAUCGAGUAUCGAUGAAGAACGC...\n",
       "4       X90410.1/15-165  AACUUUCAGCAAUGGAUCUCUUGGCUCUUGCAUCGAUGAAGAACGC..."
      ]
     },
     "execution_count": 1,
     "metadata": {},
     "output_type": "execute_result"
    }
   ],
   "source": [
    "# import libs\n",
    "from matplotlib import pyplot as plt\n",
    "from IPython.display import display\n",
    "import seaborn as sns\n",
    "import pandas as pd\n",
    "import numpy as np\n",
    "\n",
    "# read CSV\n",
    "data = pd.read_csv('TP4_data.csv')\n",
    "\n",
    "# print the df\n",
    "data.head()"
   ]
  },
  {
   "cell_type": "code",
   "execution_count": null,
   "metadata": {},
   "outputs": [],
   "source": []
  }
 ],
 "metadata": {
  "kernelspec": {
   "display_name": "base",
   "language": "python",
   "name": "python3"
  },
  "language_info": {
   "codemirror_mode": {
    "name": "ipython",
    "version": 3
   },
   "file_extension": ".py",
   "mimetype": "text/x-python",
   "name": "python",
   "nbconvert_exporter": "python",
   "pygments_lexer": "ipython3",
   "version": "3.9.12"
  },
  "orig_nbformat": 4
 },
 "nbformat": 4,
 "nbformat_minor": 2
}
