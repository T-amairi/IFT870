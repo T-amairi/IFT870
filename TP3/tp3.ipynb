{
 "cells": [
  {
   "attachments": {},
   "cell_type": "markdown",
   "metadata": {},
   "source": [
    "Victor CHAU & Tahar AMAIRI\n",
    "# IFT 870 - Forage de données\n",
    "## TP3 : onctions prédictives\n",
    "\n",
    "### Sommaire\n",
    "\n",
    "[TODO]\n",
    "\n",
    "## Importation des données"
   ]
  },
  {
   "cell_type": "code",
   "execution_count": 3,
   "metadata": {},
   "outputs": [
    {
     "data": {
      "text/html": [
       "<div>\n",
       "<style scoped>\n",
       "    .dataframe tbody tr th:only-of-type {\n",
       "        vertical-align: middle;\n",
       "    }\n",
       "\n",
       "    .dataframe tbody tr th {\n",
       "        vertical-align: top;\n",
       "    }\n",
       "\n",
       "    .dataframe thead th {\n",
       "        text-align: right;\n",
       "    }\n",
       "</style>\n",
       "<table border=\"1\" class=\"dataframe\">\n",
       "  <thead>\n",
       "    <tr style=\"text-align: right;\">\n",
       "      <th></th>\n",
       "      <th>Attribut1</th>\n",
       "      <th>Attribut2</th>\n",
       "      <th>Attribut3</th>\n",
       "      <th>Attribut4</th>\n",
       "      <th>Classe</th>\n",
       "    </tr>\n",
       "  </thead>\n",
       "  <tbody>\n",
       "    <tr>\n",
       "      <th>0</th>\n",
       "      <td>-8.850074</td>\n",
       "      <td>4.041708</td>\n",
       "      <td>-4.545313</td>\n",
       "      <td>-4.578589</td>\n",
       "      <td>18</td>\n",
       "    </tr>\n",
       "    <tr>\n",
       "      <th>1</th>\n",
       "      <td>1.009469</td>\n",
       "      <td>-9.347073</td>\n",
       "      <td>-6.515912</td>\n",
       "      <td>9.669842</td>\n",
       "      <td>5</td>\n",
       "    </tr>\n",
       "    <tr>\n",
       "      <th>2</th>\n",
       "      <td>5.939861</td>\n",
       "      <td>0.718491</td>\n",
       "      <td>-0.564980</td>\n",
       "      <td>3.312923</td>\n",
       "      <td>8</td>\n",
       "    </tr>\n",
       "    <tr>\n",
       "      <th>3</th>\n",
       "      <td>5.629454</td>\n",
       "      <td>1.395495</td>\n",
       "      <td>-0.424261</td>\n",
       "      <td>4.603658</td>\n",
       "      <td>8</td>\n",
       "    </tr>\n",
       "    <tr>\n",
       "      <th>4</th>\n",
       "      <td>-6.229520</td>\n",
       "      <td>3.496113</td>\n",
       "      <td>2.202815</td>\n",
       "      <td>10.431126</td>\n",
       "      <td>10</td>\n",
       "    </tr>\n",
       "  </tbody>\n",
       "</table>\n",
       "</div>"
      ],
      "text/plain": [
       "   Attribut1  Attribut2  Attribut3  Attribut4  Classe\n",
       "0  -8.850074   4.041708  -4.545313  -4.578589      18\n",
       "1   1.009469  -9.347073  -6.515912   9.669842       5\n",
       "2   5.939861   0.718491  -0.564980   3.312923       8\n",
       "3   5.629454   1.395495  -0.424261   4.603658       8\n",
       "4  -6.229520   3.496113   2.202815  10.431126      10"
      ]
     },
     "execution_count": 3,
     "metadata": {},
     "output_type": "execute_result"
    }
   ],
   "source": [
    "# import libs\n",
    "from matplotlib import pyplot as plt\n",
    "from IPython.display import display\n",
    "import seaborn as sns\n",
    "import pandas as pd\n",
    "import numpy as np\n",
    "\n",
    "# read CSV\n",
    "data = pd.read_csv('TP3_data.csv', index_col=0)\n",
    "\n",
    "# cast classe column to in\n",
    "data['Classe'] = data['Classe'].astype(int)\n",
    "\n",
    "# print the df\n",
    "data.head()"
   ]
  },
  {
   "attachments": {},
   "cell_type": "markdown",
   "metadata": {},
   "source": [
    "## 1. Implémentation de fonctions\n",
    "### a) model_score(X,y,class_model,params) "
   ]
  },
  {
   "cell_type": "code",
   "execution_count": null,
   "metadata": {},
   "outputs": [],
   "source": []
  }
 ],
 "metadata": {
  "kernelspec": {
   "display_name": "Python 3",
   "language": "python",
   "name": "python3"
  },
  "language_info": {
   "codemirror_mode": {
    "name": "ipython",
    "version": 3
   },
   "file_extension": ".py",
   "mimetype": "text/x-python",
   "name": "python",
   "nbconvert_exporter": "python",
   "pygments_lexer": "ipython3",
   "version": "3.10.10"
  },
  "orig_nbformat": 4
 },
 "nbformat": 4,
 "nbformat_minor": 2
}
