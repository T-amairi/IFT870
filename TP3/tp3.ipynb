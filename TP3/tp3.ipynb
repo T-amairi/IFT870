{
 "cells": [
  {
   "attachments": {},
   "cell_type": "markdown",
   "metadata": {},
   "source": [
    "Victor CHAU & Tahar AMAIRI\n",
    "# IFT 870 - Forage de données\n",
    "## TP3 : onctions prédictives\n",
    "\n",
    "### Sommaire\n",
    "\n",
    "* 1. Implémentation de fonctions\n",
    "    - a) ```model_score(class_model, X, y, params)```\n",
    "    - b) ```bruteforce_optimisation(class_model, X, y, grille_param)```\n",
    "    - c) ```randomize_optimisation(class_model, X, y, grille_param, sample_percent)```\n",
    "    - d) ```halving_optimisation(class_model, X, y, grille_param, n_splitting)```\n",
    "    - e) ```bayesian_optimisation(class_model, X, y, grille_param, s_size, n_iter)```\n",
    "* 2. Comparaison de fonctions\n",
    "    - a) Partitionnement en données d’entraînement et de test\n",
    "    - b) Heatmaps\n",
    "    - c) & d) Réglage des hyperparamètres avec les différentes fonctions et comparaison\n",
    "\n",
    "\n",
    "## Importation des données"
   ]
  },
  {
   "cell_type": "code",
   "execution_count": 1,
   "metadata": {},
   "outputs": [
    {
     "data": {
      "text/html": [
       "<div>\n",
       "<style scoped>\n",
       "    .dataframe tbody tr th:only-of-type {\n",
       "        vertical-align: middle;\n",
       "    }\n",
       "\n",
       "    .dataframe tbody tr th {\n",
       "        vertical-align: top;\n",
       "    }\n",
       "\n",
       "    .dataframe thead th {\n",
       "        text-align: right;\n",
       "    }\n",
       "</style>\n",
       "<table border=\"1\" class=\"dataframe\">\n",
       "  <thead>\n",
       "    <tr style=\"text-align: right;\">\n",
       "      <th></th>\n",
       "      <th>Attribut1</th>\n",
       "      <th>Attribut2</th>\n",
       "      <th>Attribut3</th>\n",
       "      <th>Attribut4</th>\n",
       "      <th>Classe</th>\n",
       "    </tr>\n",
       "  </thead>\n",
       "  <tbody>\n",
       "    <tr>\n",
       "      <th>0</th>\n",
       "      <td>-8.850074</td>\n",
       "      <td>4.041708</td>\n",
       "      <td>-4.545313</td>\n",
       "      <td>-4.578589</td>\n",
       "      <td>18</td>\n",
       "    </tr>\n",
       "    <tr>\n",
       "      <th>1</th>\n",
       "      <td>1.009469</td>\n",
       "      <td>-9.347073</td>\n",
       "      <td>-6.515912</td>\n",
       "      <td>9.669842</td>\n",
       "      <td>5</td>\n",
       "    </tr>\n",
       "    <tr>\n",
       "      <th>2</th>\n",
       "      <td>5.939861</td>\n",
       "      <td>0.718491</td>\n",
       "      <td>-0.564980</td>\n",
       "      <td>3.312923</td>\n",
       "      <td>8</td>\n",
       "    </tr>\n",
       "    <tr>\n",
       "      <th>3</th>\n",
       "      <td>5.629454</td>\n",
       "      <td>1.395495</td>\n",
       "      <td>-0.424261</td>\n",
       "      <td>4.603658</td>\n",
       "      <td>8</td>\n",
       "    </tr>\n",
       "    <tr>\n",
       "      <th>4</th>\n",
       "      <td>-6.229520</td>\n",
       "      <td>3.496113</td>\n",
       "      <td>2.202815</td>\n",
       "      <td>10.431126</td>\n",
       "      <td>10</td>\n",
       "    </tr>\n",
       "  </tbody>\n",
       "</table>\n",
       "</div>"
      ],
      "text/plain": [
       "   Attribut1  Attribut2  Attribut3  Attribut4  Classe\n",
       "0  -8.850074   4.041708  -4.545313  -4.578589      18\n",
       "1   1.009469  -9.347073  -6.515912   9.669842       5\n",
       "2   5.939861   0.718491  -0.564980   3.312923       8\n",
       "3   5.629454   1.395495  -0.424261   4.603658       8\n",
       "4  -6.229520   3.496113   2.202815  10.431126      10"
      ]
     },
     "execution_count": 1,
     "metadata": {},
     "output_type": "execute_result"
    }
   ],
   "source": [
    "# import libs\n",
    "from sklearn.experimental import enable_halving_search_cv\n",
    "from sklearn.model_selection import GridSearchCV, RandomizedSearchCV, HalvingGridSearchCV\n",
    "from sklearn.gaussian_process import GaussianProcessRegressor\n",
    "from sklearn.model_selection import train_test_split\n",
    "from sklearn.neighbors import KNeighborsClassifier\n",
    "\n",
    "from timeit import default_timer as timer\n",
    "from matplotlib import pyplot as plt\n",
    "import seaborn as sns\n",
    "import pandas as pd\n",
    "import numpy as np\n",
    "import itertools\n",
    "\n",
    "# set seed for numpy\n",
    "np.random.seed(0)\n",
    "\n",
    "# read CSV\n",
    "data = pd.read_csv('TP3_data.csv', index_col=0)\n",
    "\n",
    "# cast classe column to in\n",
    "data['Classe'] = data['Classe'].astype(int)\n",
    "\n",
    "# print the df\n",
    "data.head()"
   ]
  },
  {
   "cell_type": "code",
   "execution_count": 2,
   "metadata": {},
   "outputs": [],
   "source": [
    "# split into X and y arrays\n",
    "X = data.iloc[:,0:4].to_numpy()\n",
    "y = data['Classe'].to_numpy()"
   ]
  },
  {
   "attachments": {},
   "cell_type": "markdown",
   "metadata": {},
   "source": [
    "## 1. Implémentation de fonctions\n",
    "### a) ```model_score(class_model, X, y, params)```"
   ]
  },
  {
   "cell_type": "code",
   "execution_count": 3,
   "metadata": {},
   "outputs": [],
   "source": [
    "def model_score(class_model, X, y, params):\n",
    "    # split idx into 5 folds\n",
    "    idxSplit = np.array_split(np.arange(0,X.shape[0]), 5)\n",
    "    # to store the accuracy for each validation\n",
    "    accList = list()\n",
    "    # train mask\n",
    "    idxTrain = np.ones(X.shape[0],dtype=bool)\n",
    "    # set parameters\n",
    "    class_model.set_params(**params)\n",
    "\n",
    "    # loop over each test idx\n",
    "    for idxTest in idxSplit:\n",
    "        # set up mask\n",
    "        idxTrain[idxTest] = 0\n",
    "        # get train sets\n",
    "        Xtrain, YTrain = X[idxTrain], y[idxTrain]\n",
    "        # get test sets\n",
    "        Xtest, YTest = X[idxTest], y[idxTest]\n",
    "        # train model\n",
    "        class_model.fit(Xtrain, YTrain)\n",
    "        # get prediction score\n",
    "        accList.append(class_model.score(Xtest, YTest))\n",
    "        # reset mask\n",
    "        idxTrain[:] = True\n",
    "\n",
    "    # return mean accuracy\n",
    "    return np.mean(accList)"
   ]
  },
  {
   "cell_type": "code",
   "execution_count": 4,
   "metadata": {},
   "outputs": [
    {
     "data": {
      "text/plain": [
       "0.9987999999999999"
      ]
     },
     "execution_count": 4,
     "metadata": {},
     "output_type": "execute_result"
    }
   ],
   "source": [
    "# test\n",
    "class_model = KNeighborsClassifier()\n",
    "params = {'n_neighbors': 10, 'p': 5}\n",
    "model_score(class_model, X, y, params)"
   ]
  },
  {
   "attachments": {},
   "cell_type": "markdown",
   "metadata": {},
   "source": [
    "### b) ```bruteforce_optimisation(class_model, X, y, grille_param)```"
   ]
  },
  {
   "cell_type": "code",
   "execution_count": 5,
   "metadata": {},
   "outputs": [],
   "source": [
    "def bruteforce_optimisation(class_model, X, y, grille_param):\n",
    "    # to store the best accuracy from the cv\n",
    "    bestAcc = 0.0\n",
    "    # same here but for the parameters of the model\n",
    "    bestPara = None\n",
    "    \n",
    "    # get the grid search space\n",
    "    keys = grille_param.keys() # get parameters\n",
    "    combinations = itertools.product(*grille_param.values()) # get all the parameters combinations \n",
    "    grid = [dict(zip(keys, comb)) for comb in combinations] # zipped in list of dict \n",
    "\n",
    "    # grid search\n",
    "    for params in grid:\n",
    "        # get acc from cv\n",
    "        acc = model_score(class_model, X, y, params)\n",
    "        # update\n",
    "        if acc > bestAcc:\n",
    "            bestAcc = acc\n",
    "            bestPara = params\n",
    "\n",
    "    # return best parameters\n",
    "    return bestAcc, bestPara"
   ]
  },
  {
   "cell_type": "code",
   "execution_count": 6,
   "metadata": {},
   "outputs": [
    {
     "data": {
      "text/plain": [
       "(0.999, {'n_neighbors': 7, 'p': 3})"
      ]
     },
     "execution_count": 6,
     "metadata": {},
     "output_type": "execute_result"
    }
   ],
   "source": [
    "# test\n",
    "grille_param = {'n_neighbors': range(1,20), 'p': range(1,10)}\n",
    "bruteforce_optimisation(class_model, X, y, grille_param)"
   ]
  },
  {
   "attachments": {},
   "cell_type": "markdown",
   "metadata": {},
   "source": [
    "### c) ```randomize_optimisation(class_model, X, y, grille_param, sample_percent)```"
   ]
  },
  {
   "cell_type": "code",
   "execution_count": 7,
   "metadata": {},
   "outputs": [],
   "source": [
    "def randomize_optimisation(class_model, X, y, grille_param, sample_percent):\n",
    "    # check sample_percent value\n",
    "    if sample_percent > 100 or sample_percent < 0:\n",
    "        raise ValueError(\"sample_percent needs to in [0,100]\")\n",
    "    \n",
    "    # to store the best accuracy from the cv\n",
    "    bestAcc = 0.0\n",
    "    # same here but for the parameters of the model\n",
    "    bestPara = None\n",
    "\n",
    "    # get the grid search space\n",
    "    keys = grille_param.keys() # get parameters\n",
    "    combinations = itertools.product(*grille_param.values()) # get all the parameters combinations \n",
    "    grid = [dict(zip(keys, comb)) for comb in combinations] # zipped in list of dict\n",
    "    \n",
    "    # shuffle\n",
    "    np.random.shuffle(grid)\n",
    "    # get a sample percent\n",
    "    grid = grid[0:int(len(grid) * sample_percent / 100)]\n",
    "\n",
    "    # grid search\n",
    "    for params in grid:\n",
    "        # get acc from cv\n",
    "        acc = model_score(class_model, X, y, params)\n",
    "        # update\n",
    "        if acc > bestAcc:\n",
    "            bestAcc = acc\n",
    "            bestPara = params\n",
    "\n",
    "    # return best parameters\n",
    "    return bestAcc, bestPara"
   ]
  },
  {
   "cell_type": "code",
   "execution_count": 8,
   "metadata": {},
   "outputs": [
    {
     "data": {
      "text/plain": [
       "(0.999, {'n_neighbors': 17, 'p': 1})"
      ]
     },
     "execution_count": 8,
     "metadata": {},
     "output_type": "execute_result"
    }
   ],
   "source": [
    "# test\n",
    "sample_percent = 30\n",
    "randomize_optimisation(class_model, X, y, grille_param, sample_percent)"
   ]
  },
  {
   "attachments": {},
   "cell_type": "markdown",
   "metadata": {},
   "source": [
    "### d) ```halving_optimisation(class_model, X, y, grille_param, n_splitting)```"
   ]
  },
  {
   "cell_type": "code",
   "execution_count": 9,
   "metadata": {},
   "outputs": [],
   "source": [
    "def halving_optimisation(class_model, X, y, grille_param, n_splitting):\n",
    "    # get the grid search space\n",
    "    keys = grille_param.keys() # get parameters\n",
    "    combinations = itertools.product(*grille_param.values()) # get all the parameters combinations \n",
    "    grid = np.array([dict(zip(keys, comb)) for comb in combinations]) # zipped in list of dict\n",
    "\n",
    "    # to store acc for each parameters\n",
    "    accList = list()\n",
    "    # size of the grid\n",
    "    P = len(grid)\n",
    "    # data size\n",
    "    N = X.shape[0]\n",
    "    # grid idx\n",
    "    idx = range(0,P)\n",
    "\n",
    "    # halving iter\n",
    "    for i, j in zip(range(0, n_splitting), range(1, n_splitting + 1)):\n",
    "        # get search & data space\n",
    "        p = int(P * (n_splitting - i) / n_splitting)\n",
    "        n = int(N * j / n_splitting)\n",
    "\n",
    "        # get the corresponding data\n",
    "        xn = X[0:n,:]\n",
    "        yn = y[0:n]\n",
    "\n",
    "        # get the best parameters\n",
    "        grid = grid[idx[0:p]]\n",
    "        \n",
    "        # clear accuracy\n",
    "        accList.clear()\n",
    "\n",
    "        # grid search\n",
    "        for params in grid:\n",
    "        # append negative acc from cv (because of argsort)\n",
    "           accList.append(- model_score(class_model, xn, yn, params))\n",
    "\n",
    "        # get idx of sorted parameters based on the accuracy\n",
    "        idx = np.argsort(accList)\n",
    "\n",
    "    # get the best parameters\n",
    "    grid = grid[idx]\n",
    "\n",
    "    # return best parameters\n",
    "    return - np.min(accList), grid[0]"
   ]
  },
  {
   "cell_type": "code",
   "execution_count": 10,
   "metadata": {},
   "outputs": [
    {
     "data": {
      "text/plain": [
       "(0.999, {'n_neighbors': 7, 'p': 3})"
      ]
     },
     "execution_count": 10,
     "metadata": {},
     "output_type": "execute_result"
    }
   ],
   "source": [
    "# test\n",
    "n_splitting = 5\n",
    "halving_optimisation(class_model, X, y, grille_param, n_splitting)"
   ]
  },
  {
   "attachments": {},
   "cell_type": "markdown",
   "metadata": {},
   "source": [
    "### e) ```bayesian_optimisation(class_model, X, y, grille_param, s_size, n_iter)```"
   ]
  },
  {
   "cell_type": "code",
   "execution_count": 11,
   "metadata": {},
   "outputs": [],
   "source": [
    "def bayesian_optimisation(class_model, X, y, grille_param, s_size, n_iter):\n",
    "    # get the grid search space\n",
    "    keys = grille_param.keys() # get parameters\n",
    "    combinations = itertools.product(*grille_param.values()) # get all the parameters combinations \n",
    "    grid = np.array([dict(zip(keys, comb)) for comb in combinations]) # zipped in list of dict\n",
    "\n",
    "    # transform the grid search space into a matrix\n",
    "    M = np.array([list(params.values()) for params in grid])\n",
    "\n",
    "    # set s_size accordingly to the number of parameters\n",
    "    s_size = len(grid) if len(grid) < s_size else s_size\n",
    "\n",
    "    # generate a sample of size s_size\n",
    "    sampleIdx = np.random.choice(M.shape[0], s_size, replace=False)\n",
    "    E = M[sampleIdx, :]\n",
    "\n",
    "    # to cache the accuracy of sampled parameters\n",
    "    accList = list()\n",
    "\n",
    "    # get accuracy of the sampled parameters\n",
    "    for params in E:\n",
    "        # get acc from cv\n",
    "        accList.append(model_score(class_model, X, y, dict(zip(keys, params))))\n",
    "\n",
    "    # fit the approximation function\n",
    "    GPR = GaussianProcessRegressor(random_state=0)\n",
    "    GPR.fit(E, accList)\n",
    "\n",
    "    # Bayesian search\n",
    "    for _ in range(n_iter):\n",
    "        # predict the scores of all parameters\n",
    "        score = GPR.predict(M, return_std=True)\n",
    "\n",
    "        # get the maximum mean from the predictions\n",
    "        max_pred_moy = np.max(score[0])\n",
    "\n",
    "        # generate a sample of size s_size\n",
    "        sampleIdx = np.random.choice(M.shape[0], s_size, replace=False)\n",
    "        sample = M[sampleIdx, :]\n",
    "\n",
    "        # predict the scores of the sample\n",
    "        scoreSample = GPR.predict(sample, return_std=True)\n",
    "\n",
    "        # compute prob\n",
    "        prob = (scoreSample[0] - max_pred_moy) / (scoreSample[1] + 10e-6)\n",
    "        \n",
    "        # get the parameter corresponding to the maximum proba\n",
    "        max_param = sample[np.argmax(prob)]\n",
    "        \n",
    "        # add it to E\n",
    "        E = np.vstack([E, max_param])\n",
    "\n",
    "        # get the accuracy of the sampled parameter\n",
    "        accList.append(model_score(class_model, X, y, dict(zip(keys, max_param))))\n",
    "\n",
    "        # fit the approximation function\n",
    "        GPR.fit(E, accList)\n",
    "\n",
    "    # return best parameters\n",
    "    return np.max(accList), dict(zip(keys, E[np.argmax(accList)]))"
   ]
  },
  {
   "cell_type": "code",
   "execution_count": 12,
   "metadata": {},
   "outputs": [
    {
     "data": {
      "text/plain": [
       "(0.999, {'n_neighbors': 7, 'p': 3})"
      ]
     },
     "execution_count": 12,
     "metadata": {},
     "output_type": "execute_result"
    }
   ],
   "source": [
    "# test\n",
    "s_size = 5\n",
    "n_iter = 100\n",
    "bayesian_optimisation(class_model, X, y, grille_param, s_size, n_iter)"
   ]
  },
  {
   "attachments": {},
   "cell_type": "markdown",
   "metadata": {},
   "source": [
    "## 2. Comparaison de fonctions\n",
    "### a) Partitionnement en données d’entraînement et de test"
   ]
  },
  {
   "cell_type": "code",
   "execution_count": 13,
   "metadata": {},
   "outputs": [],
   "source": [
    "# use sklearn function to split into 70% train / 30% test set\n",
    "XTrain, XTest, yTrain, yTest = train_test_split(X, y, test_size=0.3, random_state=0)"
   ]
  },
  {
   "attachments": {},
   "cell_type": "markdown",
   "metadata": {},
   "source": [
    "### b) Heatmaps"
   ]
  },
  {
   "cell_type": "code",
   "execution_count": 14,
   "metadata": {},
   "outputs": [
    {
     "data": {
      "image/png": "[encoded data removed]",
      "text/plain": [
       "<Figure size 1500x500 with 4 Axes>"
      ]
     },
     "metadata": {},
     "output_type": "display_data"
    }
   ],
   "source": [
    "# parameters\n",
    "class_model = KNeighborsClassifier()\n",
    "n_neighbors = range(1,20)\n",
    "P = range(1,10)\n",
    "\n",
    "# to store scores\n",
    "trainScore, testScore = np.zeros((len(n_neighbors), len(P))), np.zeros((len(n_neighbors), len(P)))\n",
    "\n",
    "# get all the scores\n",
    "for i, n in enumerate(n_neighbors):\n",
    "    for j, p in enumerate(P):\n",
    "        # get train scores using cv\n",
    "        trainScore[i,j] = model_score(class_model, XTrain, yTrain, {'n_neighbors': n, 'p': p})\n",
    "        # get test scores\n",
    "        testScore[i,j] = class_model.score(XTest, yTest)\n",
    "\n",
    "# set subplot\n",
    "fig, (ax1, ax2) = plt.subplots(1,2, figsize=(15, 5))\n",
    "\n",
    "# add titles\n",
    "ax1.set_title('Train scores');\n",
    "ax2.set_title('Test scores');\n",
    "\n",
    "# plot heatmaps\n",
    "heatMapTrain = sns.heatmap(trainScore, ax = ax1, cbar_kws={'label': 'Accuracy'});\n",
    "heatMapTest = sns.heatmap(testScore, ax = ax2, cbar_kws={'label': 'Accuracy'});\n",
    "\n",
    "# set labels and ticks\n",
    "heatMapTrain.set(xlabel='p', ylabel='n_neighbors', xticklabels=list(P), yticklabels=list(n_neighbors));\n",
    "heatMapTest.set(xlabel='p', ylabel='n_neighbors', xticklabels=list(P), yticklabels=list(n_neighbors));"
   ]
  },
  {
   "attachments": {},
   "cell_type": "markdown",
   "metadata": {},
   "source": [
    "### c) & d) Réglage des hyperparamètres avec les différentes fonctions et comparaison"
   ]
  },
  {
   "cell_type": "code",
   "execution_count": 15,
   "metadata": {},
   "outputs": [],
   "source": [
    "# to benchmark the hand written functions\n",
    "def benchmark(class_model, XTrain, yTrain, XTest, yTest, f, f_para):\n",
    "    # get execution time, training accuracy and the best parameters\n",
    "    start = timer()\n",
    "    trainAcc, bestPara = f(class_model = class_model, X = XTrain, y = yTrain, **f_para)\n",
    "    end = timer()\n",
    "\n",
    "    # get test accuracy\n",
    "    testAcc = class_model.score(XTest, yTest)\n",
    "\n",
    "    # return the results as a list\n",
    "    return [float(\"{:.2f}\".format(end - start)), float(\"{:.5f}\".format(trainAcc)), float(\"{:.5f}\".format(testAcc))] + list(bestPara.values())\n",
    "\n",
    "# to benchmark the sklearn functions\n",
    "def benchmarkSklearn(class_model, XTrain, yTrain, XTest, yTest, f, f_para):\n",
    "    # construct the class\n",
    "    f = f(estimator = class_model, **f_para)\n",
    "\n",
    "    # get execution time of the fit phase\n",
    "    start = timer()\n",
    "    f.fit(XTrain, yTrain)\n",
    "    end = timer()\n",
    "\n",
    "    # get train accuracy\n",
    "    trainAcc = f.best_score_\n",
    "\n",
    "    # get test accuracy\n",
    "    testAcc = f.score(XTest, yTest)\n",
    "\n",
    "    # get best parameters\n",
    "    bestPara = f.best_params_\n",
    "\n",
    "    # return the results as a list\n",
    "    return [float(\"{:.2f}\".format(end - start)), float(\"{:.5f}\".format(trainAcc)), float(\"{:.5f}\".format(testAcc))] + list(bestPara.values())"
   ]
  },
  {
   "cell_type": "code",
   "execution_count": 16,
   "metadata": {},
   "outputs": [],
   "source": [
    "# to stock the results\n",
    "perf = list()\n",
    "\n",
    "# bruteforce_optimisation\n",
    "res = benchmark(class_model, XTrain, yTrain, XTest, yTest, bruteforce_optimisation, {'grille_param' : grille_param})\n",
    "perf.append(['bruteforce_optimisation'] + res)\n",
    "\n",
    "# randomize_optimisation\n",
    "res = benchmark(class_model, XTrain, yTrain, XTest, yTest, randomize_optimisation, {'grille_param' : grille_param, 'sample_percent' : sample_percent})\n",
    "perf.append(['randomize_optimisation'] + res)\n",
    "\n",
    "# halving_optimisation\n",
    "res = benchmark(class_model, XTrain, yTrain, XTest, yTest, halving_optimisation, {'grille_param' : grille_param, 'n_splitting' : n_splitting})\n",
    "perf.append(['halving_optimisation'] + res)\n",
    "\n",
    "# bayesian_optimisation\n",
    "res = benchmark(class_model, XTrain, yTrain, XTest, yTest, bayesian_optimisation, {'grille_param' : grille_param, 's_size' : s_size, 'n_iter' : n_iter})\n",
    "perf.append(['bayesian_optimisation'] + res)\n",
    "\n",
    "# GridSearchCV\n",
    "res = benchmarkSklearn(class_model, XTrain, yTrain, XTest, yTest, GridSearchCV, {'param_grid' : grille_param, 'scoring' : 'accuracy'})\n",
    "perf.append(['GridSearchCV'] + res)\n",
    "\n",
    "# RandomizedSearchCV\n",
    "res = benchmarkSklearn(class_model, XTrain, yTrain, XTest, yTest, RandomizedSearchCV, {'param_distributions' : grille_param, 'scoring' : 'accuracy', 'n_iter' : 30, 'random_state' : 0})\n",
    "perf.append(['RandomizedSearchCV'] + res)\n",
    "\n",
    "# HalvingGridSearchCV\n",
    "res = benchmarkSklearn(class_model, XTrain, yTrain, XTest, yTest, HalvingGridSearchCV, {'param_grid' : grille_param, 'scoring' : 'accuracy', 'factor' : 5, 'random_state' : 0})\n",
    "perf.append(['HalvingGridSearchCV'] + res)"
   ]
  },
  {
   "cell_type": "code",
   "execution_count": 17,
   "metadata": {},
   "outputs": [
    {
     "data": {
      "text/html": [
       "<div>\n",
       "<style scoped>\n",
       "    .dataframe tbody tr th:only-of-type {\n",
       "        vertical-align: middle;\n",
       "    }\n",
       "\n",
       "    .dataframe tbody tr th {\n",
       "        vertical-align: top;\n",
       "    }\n",
       "\n",
       "    .dataframe thead th {\n",
       "        text-align: right;\n",
       "    }\n",
       "</style>\n",
       "<table border=\"1\" class=\"dataframe\">\n",
       "  <thead>\n",
       "    <tr style=\"text-align: right;\">\n",
       "      <th></th>\n",
       "      <th>Function</th>\n",
       "      <th>Execution time (s)</th>\n",
       "      <th>Train acc.</th>\n",
       "      <th>Test acc.</th>\n",
       "      <th>n_neighbors</th>\n",
       "      <th>p</th>\n",
       "    </tr>\n",
       "  </thead>\n",
       "  <tbody>\n",
       "    <tr>\n",
       "      <th>0</th>\n",
       "      <td>bruteforce_optimisation</td>\n",
       "      <td>33.49</td>\n",
       "      <td>0.99914</td>\n",
       "      <td>0.99967</td>\n",
       "      <td>17</td>\n",
       "      <td>6</td>\n",
       "    </tr>\n",
       "    <tr>\n",
       "      <th>1</th>\n",
       "      <td>randomize_optimisation</td>\n",
       "      <td>10.64</td>\n",
       "      <td>0.99914</td>\n",
       "      <td>0.99933</td>\n",
       "      <td>17</td>\n",
       "      <td>7</td>\n",
       "    </tr>\n",
       "    <tr>\n",
       "      <th>2</th>\n",
       "      <td>halving_optimisation</td>\n",
       "      <td>46.06</td>\n",
       "      <td>0.99914</td>\n",
       "      <td>0.99967</td>\n",
       "      <td>17</td>\n",
       "      <td>8</td>\n",
       "    </tr>\n",
       "    <tr>\n",
       "      <th>3</th>\n",
       "      <td>bayesian_optimisation</td>\n",
       "      <td>21.12</td>\n",
       "      <td>0.99900</td>\n",
       "      <td>0.99900</td>\n",
       "      <td>15</td>\n",
       "      <td>4</td>\n",
       "    </tr>\n",
       "    <tr>\n",
       "      <th>4</th>\n",
       "      <td>GridSearchCV</td>\n",
       "      <td>33.51</td>\n",
       "      <td>0.99914</td>\n",
       "      <td>0.99967</td>\n",
       "      <td>17</td>\n",
       "      <td>6</td>\n",
       "    </tr>\n",
       "    <tr>\n",
       "      <th>5</th>\n",
       "      <td>RandomizedSearchCV</td>\n",
       "      <td>5.33</td>\n",
       "      <td>0.99871</td>\n",
       "      <td>0.99967</td>\n",
       "      <td>9</td>\n",
       "      <td>14</td>\n",
       "    </tr>\n",
       "    <tr>\n",
       "      <th>6</th>\n",
       "      <td>HalvingGridSearchCV</td>\n",
       "      <td>11.72</td>\n",
       "      <td>0.99820</td>\n",
       "      <td>0.99933</td>\n",
       "      <td>6</td>\n",
       "      <td>4</td>\n",
       "    </tr>\n",
       "  </tbody>\n",
       "</table>\n",
       "</div>"
      ],
      "text/plain": [
       "                  Function  Execution time (s)  Train acc.  Test acc.  \\\n",
       "0  bruteforce_optimisation               33.49     0.99914    0.99967   \n",
       "1   randomize_optimisation               10.64     0.99914    0.99933   \n",
       "2     halving_optimisation               46.06     0.99914    0.99967   \n",
       "3    bayesian_optimisation               21.12     0.99900    0.99900   \n",
       "4             GridSearchCV               33.51     0.99914    0.99967   \n",
       "5       RandomizedSearchCV                5.33     0.99871    0.99967   \n",
       "6      HalvingGridSearchCV               11.72     0.99820    0.99933   \n",
       "\n",
       "   n_neighbors   p  \n",
       "0           17   6  \n",
       "1           17   7  \n",
       "2           17   8  \n",
       "3           15   4  \n",
       "4           17   6  \n",
       "5            9  14  \n",
       "6            6   4  "
      ]
     },
     "execution_count": 17,
     "metadata": {},
     "output_type": "execute_result"
    }
   ],
   "source": [
    "# display as data frame\n",
    "dfPerf = pd.DataFrame(perf, columns=['Function', 'Execution time (s)', 'Train acc.', 'Test acc.'] + list(grille_param.keys()))\n",
    "dfPerf"
   ]
  },
  {
   "attachments": {},
   "cell_type": "markdown",
   "metadata": {},
   "source": [
    "# COMMENTAIRE : TODO"
   ]
  }
 ],
 "metadata": {
  "kernelspec": {
   "display_name": "Python 3",
   "language": "python",
   "name": "python3"
  },
  "language_info": {
   "codemirror_mode": {
    "name": "ipython",
    "version": 3
   },
   "file_extension": ".py",
   "mimetype": "text/x-python",
   "name": "python",
   "nbconvert_exporter": "python",
   "pygments_lexer": "ipython3",
   "version": "3.10.10"
  },
  "orig_nbformat": 4
 },
 "nbformat": 4,
 "nbformat_minor": 2
}
