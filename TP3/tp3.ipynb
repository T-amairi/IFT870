{
 "cells": [
  {
   "attachments": {},
   "cell_type": "markdown",
   "metadata": {},
   "source": [
    "Victor CHAU & Tahar AMAIRI\n",
    "# IFT 870 - Forage de données\n",
    "## TP3 : onctions prédictives\n",
    "\n",
    "### Sommaire\n",
    "\n",
    "[TODO]\n",
    "\n",
    "## Importation des données"
   ]
  },
  {
   "cell_type": "code",
   "execution_count": 82,
   "metadata": {},
   "outputs": [
    {
     "data": {
      "text/html": [
       "<div>\n",
       "<style scoped>\n",
       "    .dataframe tbody tr th:only-of-type {\n",
       "        vertical-align: middle;\n",
       "    }\n",
       "\n",
       "    .dataframe tbody tr th {\n",
       "        vertical-align: top;\n",
       "    }\n",
       "\n",
       "    .dataframe thead th {\n",
       "        text-align: right;\n",
       "    }\n",
       "</style>\n",
       "<table border=\"1\" class=\"dataframe\">\n",
       "  <thead>\n",
       "    <tr style=\"text-align: right;\">\n",
       "      <th></th>\n",
       "      <th>Attribut1</th>\n",
       "      <th>Attribut2</th>\n",
       "      <th>Attribut3</th>\n",
       "      <th>Attribut4</th>\n",
       "      <th>Classe</th>\n",
       "    </tr>\n",
       "  </thead>\n",
       "  <tbody>\n",
       "    <tr>\n",
       "      <th>0</th>\n",
       "      <td>-8.850074</td>\n",
       "      <td>4.041708</td>\n",
       "      <td>-4.545313</td>\n",
       "      <td>-4.578589</td>\n",
       "      <td>18</td>\n",
       "    </tr>\n",
       "    <tr>\n",
       "      <th>1</th>\n",
       "      <td>1.009469</td>\n",
       "      <td>-9.347073</td>\n",
       "      <td>-6.515912</td>\n",
       "      <td>9.669842</td>\n",
       "      <td>5</td>\n",
       "    </tr>\n",
       "    <tr>\n",
       "      <th>2</th>\n",
       "      <td>5.939861</td>\n",
       "      <td>0.718491</td>\n",
       "      <td>-0.564980</td>\n",
       "      <td>3.312923</td>\n",
       "      <td>8</td>\n",
       "    </tr>\n",
       "    <tr>\n",
       "      <th>3</th>\n",
       "      <td>5.629454</td>\n",
       "      <td>1.395495</td>\n",
       "      <td>-0.424261</td>\n",
       "      <td>4.603658</td>\n",
       "      <td>8</td>\n",
       "    </tr>\n",
       "    <tr>\n",
       "      <th>4</th>\n",
       "      <td>-6.229520</td>\n",
       "      <td>3.496113</td>\n",
       "      <td>2.202815</td>\n",
       "      <td>10.431126</td>\n",
       "      <td>10</td>\n",
       "    </tr>\n",
       "  </tbody>\n",
       "</table>\n",
       "</div>"
      ],
      "text/plain": [
       "   Attribut1  Attribut2  Attribut3  Attribut4  Classe\n",
       "0  -8.850074   4.041708  -4.545313  -4.578589      18\n",
       "1   1.009469  -9.347073  -6.515912   9.669842       5\n",
       "2   5.939861   0.718491  -0.564980   3.312923       8\n",
       "3   5.629454   1.395495  -0.424261   4.603658       8\n",
       "4  -6.229520   3.496113   2.202815  10.431126      10"
      ]
     },
     "execution_count": 82,
     "metadata": {},
     "output_type": "execute_result"
    }
   ],
   "source": [
    "# import libs\n",
    "from matplotlib import pyplot as plt\n",
    "from IPython.display import display\n",
    "import seaborn as sns\n",
    "import pandas as pd\n",
    "import numpy as np\n",
    "import itertools\n",
    "\n",
    "# read CSV\n",
    "data = pd.read_csv('TP3_data.csv', index_col=0)\n",
    "\n",
    "# cast classe column to in\n",
    "data['Classe'] = data['Classe'].astype(int)\n",
    "\n",
    "# print the df\n",
    "data.head()"
   ]
  },
  {
   "cell_type": "code",
   "execution_count": 83,
   "metadata": {},
   "outputs": [],
   "source": [
    "# split into X and y arrays\n",
    "X = data.iloc[:,0:4].to_numpy()\n",
    "y = data['Classe'].to_numpy()"
   ]
  },
  {
   "attachments": {},
   "cell_type": "markdown",
   "metadata": {},
   "source": [
    "## 1. Implémentation de fonctions\n",
    "### a) ```model_score(class_model, X, y, params)```"
   ]
  },
  {
   "cell_type": "code",
   "execution_count": 108,
   "metadata": {},
   "outputs": [],
   "source": [
    "def model_score(class_model, X, y, params):\n",
    "    # split idx into 5 folds\n",
    "    idxSplit = np.array_split(np.arange(0,X.shape[0]), 5)\n",
    "    # to store the accuracy for each validation\n",
    "    accList = list()\n",
    "    # train mask\n",
    "    idxTrain = np.ones(X.shape[0],dtype=bool)\n",
    "    # set parameters\n",
    "    class_model.set_params(**params)\n",
    "\n",
    "    # loop over each test idx\n",
    "    for idxTest in idxSplit:\n",
    "        # set up mask\n",
    "        idxTrain[idxTest] = 0\n",
    "        # get train sets\n",
    "        Xtrain, YTrain = X[idxTrain], y[idxTrain]\n",
    "        # get test sets\n",
    "        Xtest, YTest = X[idxTest], y[idxTest]\n",
    "        # train model\n",
    "        class_model.fit(Xtrain, YTrain)\n",
    "        # get prediction score\n",
    "        accList.append(class_model.score(Xtest, YTest))\n",
    "        # reset mask\n",
    "        idxTrain[:] = True\n",
    "\n",
    "    # return mean accuracy\n",
    "    return np.mean(accList)"
   ]
  },
  {
   "cell_type": "code",
   "execution_count": 85,
   "metadata": {},
   "outputs": [
    {
     "data": {
      "text/plain": [
       "0.9987999999999999"
      ]
     },
     "execution_count": 85,
     "metadata": {},
     "output_type": "execute_result"
    }
   ],
   "source": [
    "from sklearn.neighbors import KNeighborsClassifier\n",
    "\n",
    "# test\n",
    "class_model = KNeighborsClassifier()\n",
    "params = {'n_neighbors': 10, 'p': 5}\n",
    "model_score(class_model, X, y, params)"
   ]
  },
  {
   "attachments": {},
   "cell_type": "markdown",
   "metadata": {},
   "source": [
    "### b) ```bruteforce_optimisation(class_model, X, y, grille_param)```"
   ]
  },
  {
   "cell_type": "code",
   "execution_count": 86,
   "metadata": {},
   "outputs": [],
   "source": [
    "def bruteforce_optimisation(class_model, X, y, grille_param):\n",
    "    # to store the best accuracy from the cv\n",
    "    bestAcc = 0.0\n",
    "    # same here but for the parameters of the model\n",
    "    bestPara = None\n",
    "    \n",
    "    # get the grid search space\n",
    "    keys = grille_param.keys() # get parameters\n",
    "    combinations = itertools.product(*grille_param.values()) # get all the parameters combinations \n",
    "    grid = [dict(zip(keys, comb)) for comb in combinations] # zipped in list of dict \n",
    "\n",
    "    # grid search\n",
    "    for params in grid:\n",
    "        # get acc from cv\n",
    "        acc = model_score(class_model, X, y, params)\n",
    "        # update\n",
    "        if acc > bestAcc:\n",
    "            bestAcc = acc\n",
    "            bestPara = params\n",
    "\n",
    "    # return best parameters\n",
    "    return bestPara"
   ]
  },
  {
   "cell_type": "code",
   "execution_count": 87,
   "metadata": {},
   "outputs": [
    {
     "data": {
      "text/plain": [
       "{'n_neighbors': 7, 'p': 3}"
      ]
     },
     "execution_count": 87,
     "metadata": {},
     "output_type": "execute_result"
    }
   ],
   "source": [
    "# test\n",
    "grille_param = {'n_neighbors': range(1,20), 'p': range(1,10)}\n",
    "bruteforce_optimisation(class_model, X, y, grille_param)"
   ]
  },
  {
   "attachments": {},
   "cell_type": "markdown",
   "metadata": {},
   "source": [
    "### c) ```randomize_optimisation(class_model, X, y, grille_param, sample_percent)```"
   ]
  },
  {
   "cell_type": "code",
   "execution_count": 88,
   "metadata": {},
   "outputs": [],
   "source": [
    "def randomize_optimisation(class_model, X, y, grille_param, sample_percent):\n",
    "    # check sample_percent value\n",
    "    if sample_percent > 100 or sample_percent < 0:\n",
    "        raise ValueError(\"sample_percent needs to in [0,100]\")\n",
    "    \n",
    "    # to store the best accuracy from the cv\n",
    "    bestAcc = 0.0\n",
    "    # same here but for the parameters of the model\n",
    "    bestPara = None\n",
    "\n",
    "    # get the grid search space\n",
    "    keys = grille_param.keys() # get parameters\n",
    "    combinations = itertools.product(*grille_param.values()) # get all the parameters combinations \n",
    "    grid = [dict(zip(keys, comb)) for comb in combinations] # zipped in list of dict\n",
    "    \n",
    "    # shuffle\n",
    "    np.random.shuffle(grid)\n",
    "    # get a sample percent\n",
    "    grid = grid[0:int(len(grid) * sample_percent / 100)]\n",
    "\n",
    "    # grid search\n",
    "    for params in grid:\n",
    "        # get acc from cv\n",
    "        acc = model_score(class_model, X, y, params)\n",
    "        # update\n",
    "        if acc > bestAcc:\n",
    "            bestAcc = acc\n",
    "            bestPara = params\n",
    "\n",
    "    # return best parameters\n",
    "    return bestPara"
   ]
  },
  {
   "cell_type": "code",
   "execution_count": 89,
   "metadata": {},
   "outputs": [
    {
     "data": {
      "text/plain": [
       "{'n_neighbors': 9, 'p': 6}"
      ]
     },
     "execution_count": 89,
     "metadata": {},
     "output_type": "execute_result"
    }
   ],
   "source": [
    "# test\n",
    "sample_percent = 30\n",
    "randomize_optimisation(class_model, X, y, grille_param, sample_percent)"
   ]
  },
  {
   "attachments": {},
   "cell_type": "markdown",
   "metadata": {},
   "source": [
    "### d) ```halving_optimisation(class_model, X, y, grille_param, n_splitting)```"
   ]
  },
  {
   "cell_type": "code",
   "execution_count": 122,
   "metadata": {},
   "outputs": [],
   "source": [
    "def halving_optimisation(class_model, X, y, grille_param, n_splitting):\n",
    "    # get the grid search space\n",
    "    keys = grille_param.keys() # get parameters\n",
    "    combinations = itertools.product(*grille_param.values()) # get all the parameters combinations \n",
    "    grid = np.array([dict(zip(keys, comb)) for comb in combinations]) # zipped in list of dict\n",
    "\n",
    "    # to store acc for each parameters\n",
    "    accList = list()\n",
    "    # size of the grid\n",
    "    P = len(grid)\n",
    "    # data size\n",
    "    N = X.shape[0]\n",
    "    # grid idx\n",
    "    idx = range(0,P)\n",
    "\n",
    "    # halving iter\n",
    "    for i, j in zip(range(0, n_splitting), range(1, n_splitting + 1)):\n",
    "        # get search & data space\n",
    "        p = int(P * (n_splitting - i) / n_splitting)\n",
    "        n = int(N * j / n_splitting)\n",
    "\n",
    "        # get the corresponding data\n",
    "        xn = X[0:n,:]\n",
    "        yn = y[0:n]\n",
    "\n",
    "        # get the best parameters\n",
    "        grid = grid[idx[0:p]]\n",
    "        \n",
    "        # clear accuracy\n",
    "        accList.clear()\n",
    "\n",
    "        # grid search\n",
    "        for params in grid:\n",
    "        # append negative acc from cv (because of argsort)\n",
    "           accList.append(-model_score(class_model, xn, yn, params))\n",
    "\n",
    "        # get idx of sorted parameters based on the accuracy\n",
    "        idx = np.argsort(accList)\n",
    "\n",
    "    # return best parameters\n",
    "    return grid[0]"
   ]
  },
  {
   "cell_type": "code",
   "execution_count": 123,
   "metadata": {},
   "outputs": [
    {
     "data": {
      "text/plain": [
       "{'n_neighbors': 3, 'p': 6}"
      ]
     },
     "execution_count": 123,
     "metadata": {},
     "output_type": "execute_result"
    }
   ],
   "source": [
    "# test\n",
    "n_splitting = 5\n",
    "halving_optimisation(class_model, X, y, grille_param, n_splitting)"
   ]
  },
  {
   "attachments": {},
   "cell_type": "markdown",
   "metadata": {},
   "source": [
    "### e) ```bayesian_optimisation(class_model, X, y, grille_param, s_size, n_iter)```"
   ]
  },
  {
   "cell_type": "code",
   "execution_count": null,
   "metadata": {},
   "outputs": [],
   "source": [
    "# import GPR\n",
    "from sklearn.gaussian_process import GaussianProcessRegressor\n",
    "\n",
    "def bayesian_optimisation(class_model, X, y, grille_param, s_size, n_iter):\n",
    "    # get the grid search space\n",
    "    keys = grille_param.keys() # get parameters\n",
    "    combinations = itertools.product(*grille_param.values()) # get all the parameters combinations \n",
    "    grid = np.array([dict(zip(keys, comb)) for comb in combinations]) # zipped in list of dict\n",
    "\n",
    "    # generate a sample of size s_size\n",
    "    E = np.random.choice(grid,s_size)\n",
    "\n",
    "    \n",
    "    "
   ]
  }
 ],
 "metadata": {
  "kernelspec": {
   "display_name": "Python 3",
   "language": "python",
   "name": "python3"
  },
  "language_info": {
   "codemirror_mode": {
    "name": "ipython",
    "version": 3
   },
   "file_extension": ".py",
   "mimetype": "text/x-python",
   "name": "python",
   "nbconvert_exporter": "python",
   "pygments_lexer": "ipython3",
   "version": "3.10.10"
  },
  "orig_nbformat": 4
 },
 "nbformat": 4,
 "nbformat_minor": 2
}
